{
 "cells": [
  {
   "cell_type": "code",
   "execution_count": 1,
   "id": "e242bc6e",
   "metadata": {},
   "outputs": [
    {
     "name": "stderr",
     "output_type": "stream",
     "text": [
      "c:\\Users\\337587\\PlayGround\\01_Personal\\Kaggle\\comp_002_GamePlayingStrength\\venv01\\Lib\\site-packages\\tqdm\\auto.py:21: TqdmWarning: IProgress not found. Please update jupyter and ipywidgets. See https://ipywidgets.readthedocs.io/en/stable/user_install.html\n",
      "  from .autonotebook import tqdm as notebook_tqdm\n"
     ]
    }
   ],
   "source": [
    "import os\n",
    "import random\n",
    "import warnings\n",
    "\n",
    "import numpy as np\n",
    "import pandas as pd\n",
    "import matplotlib.pyplot as plt\n",
    "import seaborn as sns\n",
    "import lightgbm as lgb\n",
    "from sklearn.metrics import mean_squared_error\n",
    "from sklearn.model_selection import StratifiedGroupKFold\n",
    "from tqdm.auto import tqdm\n",
    "\n",
    "import wandb\n",
    "from wandb.integration.lightgbm import log_summary, wandb_callback\n",
    "\n",
    "\n",
    "\n",
    "plt.style.use(\"ggplot\")\n",
    "warnings.filterwarnings(\"ignore\")"
   ]
  },
  {
   "cell_type": "code",
   "execution_count": 2,
   "id": "ad9e86d2",
   "metadata": {},
   "outputs": [
    {
     "name": "stderr",
     "output_type": "stream",
     "text": [
      "wandb: WARNING If you're specifying your api key in code, ensure this code is not shared publicly.\n",
      "wandb: WARNING Consider setting the WANDB_API_KEY environment variable, or running `wandb login` from the command line.\n",
      "wandb: No netrc file found, creating one.\n",
      "wandb: Appending key for api.wandb.ai to your netrc file: C:\\Users\\337587\\_netrc\n",
      "wandb: Currently logged in as: shaka066 (shaka066-personal) to https://api.wandb.ai. Use `wandb login --relogin` to force relogin\n"
     ]
    },
    {
     "data": {
      "text/plain": [
       "True"
      ]
     },
     "execution_count": 2,
     "metadata": {},
     "output_type": "execute_result"
    }
   ],
   "source": [
    "from kaggle_secrets import UserSecretsClient\n",
    "user_secrets = UserSecretsClient()\n",
    "secret_value_0 = user_secrets.get_secret(\"wandb_api_key\")\n",
    "\n",
    "wandb.login(key=secret_value_0)"
   ]
  },
  {
   "cell_type": "code",
   "execution_count": 19,
   "id": "86ddf1ee",
   "metadata": {},
   "outputs": [],
   "source": [
    "class CFG:\n",
    "    # WandB\n",
    "    experiment_name = \"exp001\"\n",
    "    project = \"um-game-playing-strength-of-mcts-variants\"\n",
    "\n",
    "    # Setting\n",
    "    seed = 42\n",
    "    train_path = \"/kaggle/input/um-game-playing-strength-of-mcts-variants/train.csv\"\n",
    "    test_path = \"/kaggle/input/um-game-playing-strength-of-mcts-variants/test.csv\"\n",
    "    submission_path = (\n",
    "        \"/kaggle/input/um-game-playing-strength-of-mcts-variants/sample_submission.csv\"\n",
    "    )\n",
    "\n",
    "    # 実験関連\n",
    "    target = [\"utility_agent1\"]\n",
    "    n_splits = 5\n",
    "\n",
    "    cat_cols = [\n",
    "        \"GameRulesetName\",\n",
    "        \"agent1_param1\",\n",
    "        \"agent1_param2\",\n",
    "        \"agent1_param3\",\n",
    "        \"agent1_param4\",\n",
    "        \"agent2_param1\",\n",
    "        \"agent2_param2\",\n",
    "        \"agent2_param3\",\n",
    "        \"agent2_param4\",\n",
    "    ]\n",
    "\n",
    "    drop_cols = [\n",
    "        \"Id\",\n",
    "        \"EnglishRules\",\n",
    "        \"LudRules\",\n",
    "        \"utility_agent1\",\n",
    "        \"num_wins_agent1\",\n",
    "        \"num_draws_agent1\",\n",
    "        \"num_losses_agent1\",\n",
    "    ]\n",
    "\n",
    "    # LightGBM\n",
    "    objective = \"regression\"\n",
    "    metric = \"rmse\"\n",
    "    learning_rate = 0.1\n",
    "    n_estimators = 10000\n",
    "    stopping_rounds = 20\n",
    "    log_evaluation = 100\n",
    "\n",
    "\n",
    "# CFGクラスのインスタンスを作成\n",
    "config = CFG()"
   ]
  },
  {
   "cell_type": "code",
   "execution_count": 20,
   "id": "765fe513",
   "metadata": {},
   "outputs": [],
   "source": [
    "# シード固定\n",
    "def seed_everything(seed: int):\n",
    "    random.seed(seed)\n",
    "    os.environ[\"PYTHONHASHSEED\"] = str(seed)\n",
    "    np.random.seed(seed)\n",
    "seed_everything(config.seed)"
   ]
  },
  {
   "cell_type": "code",
   "execution_count": 21,
   "id": "1e9d6a90",
   "metadata": {},
   "outputs": [],
   "source": [
    "# クラスの属性を辞書に変換する関数\n",
    "def class_to_dict(obj):\n",
    "    return {k: getattr(obj, k) for k in dir(obj) if not k.startswith('__') and not callable(getattr(obj, k))}"
   ]
  },
  {
   "cell_type": "code",
   "execution_count": 22,
   "id": "701873f2",
   "metadata": {},
   "outputs": [
    {
     "data": {
      "text/plain": [
       "{'cat_cols': ['GameRulesetName',\n",
       "  'agent1_param1',\n",
       "  'agent1_param2',\n",
       "  'agent1_param3',\n",
       "  'agent1_param4',\n",
       "  'agent2_param1',\n",
       "  'agent2_param2',\n",
       "  'agent2_param3',\n",
       "  'agent2_param4'],\n",
       " 'drop_cols': ['Id',\n",
       "  'EnglishRules',\n",
       "  'LudRules',\n",
       "  'utility_agent1',\n",
       "  'num_wins_agent1',\n",
       "  'num_draws_agent1',\n",
       "  'num_losses_agent1'],\n",
       " 'experiment_name': 'exp001',\n",
       " 'learning_rate': 0.1,\n",
       " 'log_evaluation': 100,\n",
       " 'metric': 'rmse',\n",
       " 'n_estimators': 10000,\n",
       " 'n_splits': 5,\n",
       " 'objective': 'regression',\n",
       " 'project': 'um-game-playing-strength-of-mcts-variants',\n",
       " 'seed': 42,\n",
       " 'stopping_rounds': 20,\n",
       " 'submission_path': '/kaggle/input/um-game-playing-strength-of-mcts-variants/sample_submission.csv',\n",
       " 'target': ['utility_agent1'],\n",
       " 'test_path': '/kaggle/input/um-game-playing-strength-of-mcts-variants/test.csv',\n",
       " 'train_path': '/kaggle/input/um-game-playing-strength-of-mcts-variants/train.csv'}"
      ]
     },
     "execution_count": 22,
     "metadata": {},
     "output_type": "execute_result"
    }
   ],
   "source": [
    "class_to_dict(config)"
   ]
  },
  {
   "cell_type": "code",
   "execution_count": 24,
   "id": "057f52d4",
   "metadata": {},
   "outputs": [
    {
     "name": "stdout",
     "output_type": "stream",
     "text": [
      "um-game-playing-strength-of-mcts-variants.zip: Skipping, found more recently modified local copy (use --force to force download)\n"
     ]
    }
   ],
   "source": [
    "import os\n",
    "import zipfile\n",
    "from kaggle.api.kaggle_api_extended import KaggleApi\n",
    "\n",
    "# ──────────────────────────────────────────\n",
    "# 1. データ保存先とコンペのスラッグを指定\n",
    "# ──────────────────────────────────────────\n",
    "DATA_DIR = r\"C:\\Users\\337587\\PlayGround\\01_Personal\\Kaggle\\comp_002_GamePlayingStrength\\data\"\n",
    "\n",
    "# コンペのスラッグ(※URLの /competitions/ の後ろに当たる部分)\n",
    "# 例: https://www.kaggle.com/competitions/um-game-playing-strength-of-mcts-variants\n",
    "#                                                        ↑ここ\n",
    "COMPETITION_SLUG = \"um-game-playing-strength-of-mcts-variants\"\n",
    "\n",
    "# ──────────────────────────────────────────\n",
    "# 2. データ取得関数\n",
    "# ──────────────────────────────────────────\n",
    "def fetch_competition_data(slug: str, target_dir: str):\n",
    "    os.makedirs(target_dir, exist_ok=True)\n",
    "    api = KaggleApi()\n",
    "    api.authenticate()\n",
    "\n",
    "    # コンペ全ファイルを一括ダウンロード (zipで落ちる)\n",
    "    api.competition_download_files(slug, path=target_dir, quiet=False)\n",
    "\n",
    "    # ダウンロードした zip をすべて展開\n",
    "    for fname in os.listdir(target_dir):\n",
    "        if fname.endswith(\".zip\"):\n",
    "            zip_path = os.path.join(target_dir, fname)\n",
    "            with zipfile.ZipFile(zip_path, \"r\") as z:\n",
    "                z.extractall(target_dir)\n",
    "            # 必要なら元zipを削除\n",
    "            # os.remove(zip_path)\n",
    "\n",
    "# 実行例\n",
    "fetch_competition_data(COMPETITION_SLUG, DATA_DIR)\n"
   ]
  },
  {
   "cell_type": "code",
   "execution_count": null,
   "id": "f0cec395",
   "metadata": {},
   "outputs": [
    {
     "name": "stdout",
     "output_type": "stream",
     "text": [
      "(233234, 814) (3, 810)\n"
     ]
    }
   ],
   "source": [
    "config.train_path      = r\"C:\\Users\\337587\\PlayGround\\01_Personal\\Kaggle\\comp_002_GamePlayingStrength\\data\\train.csv\"\n",
    "config.test_path       = r\"C:\\Users\\337587\\PlayGround\\01_Personal\\Kaggle\\comp_002_GamePlayingStrength\\data\\test.csv\"\n",
    "    \n",
    "\n",
    "df_train = pd.read_csv(config.train_path)\n",
    "df_test  = pd.read_csv(config.test_path)\n",
    "print(df_train.shape, df_test.shape)\n"
   ]
  },
  {
   "cell_type": "code",
   "execution_count": 27,
   "id": "5c7be9c9",
   "metadata": {},
   "outputs": [
    {
     "data": {
      "text/plain": [
       "<Axes: ylabel='Frequency'>"
      ]
     },
     "execution_count": 27,
     "metadata": {},
     "output_type": "execute_result"
    },
    {
     "data": {
      "image/png": "[encoded data removed]",
      "text/plain": [
       "<Figure size 640x480 with 1 Axes>"
      ]
     },
     "metadata": {},
     "output_type": "display_data"
    }
   ],
   "source": [
    "#ターゲットの分布を確認\n",
    "df_train[config.target].plot.hist(bins=100)"
   ]
  },
  {
   "cell_type": "code",
   "execution_count": 28,
   "id": "53e8a3e8",
   "metadata": {},
   "outputs": [],
   "source": [
    "def add_agent_type_cols(df):\n",
    "    for col in [\"agent1\", \"agent2\"]:\n",
    "        agent_add_cols = df[col].str.split(\"-\", expand=True)\n",
    "        agent_add_cols.columns = [\n",
    "            f\"{col}_param0\",\n",
    "            f\"{col}_param1\",\n",
    "            f\"{col}_param2\",\n",
    "            f\"{col}_param3\",\n",
    "            f\"{col}_param4\",\n",
    "        ]\n",
    "        agent_add_cols = agent_add_cols.drop(\n",
    "            [f\"{col}_param0\"], axis=1\n",
    "        )  # 1つ目はMCTSで固定のため削除\n",
    "\n",
    "        df = pd.concat([df, agent_add_cols], axis=1)\n",
    "        df = df.drop([col], axis=1)\n",
    "\n",
    "    return df"
   ]
  },
  {
   "cell_type": "code",
   "execution_count": 29,
   "id": "aa329f15",
   "metadata": {},
   "outputs": [
    {
     "data": {
      "text/plain": [
       "614"
      ]
     },
     "execution_count": 29,
     "metadata": {},
     "output_type": "execute_result"
    }
   ],
   "source": [
    "df_train = add_agent_type_cols(df_train)\n",
    "df_test = add_agent_type_cols(df_test)\n",
    "one_cols = []\n",
    "for c in df_train.columns:\n",
    "    cnum = df_train[c].value_counts().shape[0]\n",
    "\n",
    "    if cnum == 1:\n",
    "        one_cols.append(c)\n",
    "\n",
    "train_cols = df_train.drop(\n",
    "    config.target + config.drop_cols + one_cols + [\"GameRulesetName\"], axis=1\n",
    ").columns\n",
    "\n",
    "len(train_cols)"
   ]
  },
  {
   "cell_type": "code",
   "execution_count": 30,
   "id": "b0cd6416",
   "metadata": {},
   "outputs": [],
   "source": [
    "for c in config.cat_cols:\n",
    "    df_train[c] = df_train[c].astype(\"category\")\n",
    "    df_test[c] = df_test[c].astype(\"category\")"
   ]
  },
  {
   "cell_type": "code",
   "execution_count": 31,
   "id": "affca138",
   "metadata": {},
   "outputs": [],
   "source": [
    "# StratifiedGroupKFold\n",
    "sgkf = StratifiedGroupKFold(n_splits=config.n_splits)\n",
    "\n",
    "# 各サンプルにfold番号を割り当て\n",
    "for fold, (train_idx, val_idx) in enumerate(\n",
    "    sgkf.split(\n",
    "        df_train, round(df_train[config.target] * 15), df_train[\"GameRulesetName\"]\n",
    "    )\n",
    "):\n",
    "    df_train.loc[val_idx, \"fold\"] = fold"
   ]
  },
  {
   "cell_type": "code",
   "execution_count": 32,
   "id": "4b8971ea",
   "metadata": {},
   "outputs": [
    {
     "data": {
      "text/plain": [
       "{'objective': 'regression',\n",
       " 'learning_rate': 0.1,\n",
       " 'metric': 'rmse',\n",
       " 'verbosity': -1,\n",
       " 'seed': 42}"
      ]
     },
     "execution_count": 32,
     "metadata": {},
     "output_type": "execute_result"
    }
   ],
   "source": [
    "params = {\n",
    "    \"objective\": config.objective,\n",
    "    \"learning_rate\": config.learning_rate,\n",
    "    \"metric\": config.metric,\n",
    "    \"verbosity\": -1,\n",
    "    \"seed\": config.seed,\n",
    "}\n",
    "params"
   ]
  },
  {
   "cell_type": "code",
   "execution_count": 33,
   "id": "3b368296",
   "metadata": {},
   "outputs": [
    {
     "name": "stderr",
     "output_type": "stream",
     "text": [
      "  0%|          | 0/5 [00:00<?, ?it/s]"
     ]
    },
    {
     "data": {
      "text/html": [
       "Waiting for wandb.init()..."
      ],
      "text/plain": [
       "<IPython.core.display.HTML object>"
      ]
     },
     "metadata": {},
     "output_type": "display_data"
    },
    {
     "data": {
      "text/html": [
       "Tracking run with wandb version 0.19.10"
      ],
      "text/plain": [
       "<IPython.core.display.HTML object>"
      ]
     },
     "metadata": {},
     "output_type": "display_data"
    },
    {
     "data": {
      "text/html": [
       "Run data is saved locally in <code>c:\\Users\\337587\\PlayGround\\01_Personal\\Kaggle\\comp_002_GamePlayingStrength\\experiments\\exp001\\wandb\\run-20250502_222145-kiesdhcn</code>"
      ],
      "text/plain": [
       "<IPython.core.display.HTML object>"
      ]
     },
     "metadata": {},
     "output_type": "display_data"
    },
    {
     "data": {
      "text/html": [
       "Syncing run <strong><a href='https://wandb.ai/shaka066-personal/um-game-playing-strength-of-mcts-variants/runs/kiesdhcn' target=\"_blank\">fold0</a></strong> to <a href='https://wandb.ai/shaka066-personal/um-game-playing-strength-of-mcts-variants' target=\"_blank\">Weights & Biases</a> (<a href='https://wandb.me/developer-guide' target=\"_blank\">docs</a>)<br>"
      ],
      "text/plain": [
       "<IPython.core.display.HTML object>"
      ]
     },
     "metadata": {},
     "output_type": "display_data"
    },
    {
     "data": {
      "text/html": [
       " View project at <a href='https://wandb.ai/shaka066-personal/um-game-playing-strength-of-mcts-variants' target=\"_blank\">https://wandb.ai/shaka066-personal/um-game-playing-strength-of-mcts-variants</a>"
      ],
      "text/plain": [
       "<IPython.core.display.HTML object>"
      ]
     },
     "metadata": {},
     "output_type": "display_data"
    },
    {
     "data": {
      "text/html": [
       " View run at <a href='https://wandb.ai/shaka066-personal/um-game-playing-strength-of-mcts-variants/runs/kiesdhcn' target=\"_blank\">https://wandb.ai/shaka066-personal/um-game-playing-strength-of-mcts-variants/runs/kiesdhcn</a>"
      ],
      "text/plain": [
       "<IPython.core.display.HTML object>"
      ]
     },
     "metadata": {},
     "output_type": "display_data"
    },
    {
     "name": "stdout",
     "output_type": "stream",
     "text": [
      "Training until validation scores don't improve for 20 rounds\n",
      "[100]\ttraining's rmse: 0.358534\tvalid_1's rmse: 0.46669\n",
      "[200]\ttraining's rmse: 0.326312\tvalid_1's rmse: 0.459489\n",
      "[300]\ttraining's rmse: 0.304924\tvalid_1's rmse: 0.453864\n",
      "[400]\ttraining's rmse: 0.289433\tvalid_1's rmse: 0.449981\n",
      "[500]\ttraining's rmse: 0.279854\tvalid_1's rmse: 0.447394\n",
      "Early stopping, best iteration is:\n",
      "[527]\ttraining's rmse: 0.277801\tvalid_1's rmse: 0.446973\n",
      "Fold 0 _rmse: 0.44697\n"
     ]
    },
    {
     "data": {
      "text/html": [],
      "text/plain": [
       "<IPython.core.display.HTML object>"
      ]
     },
     "metadata": {},
     "output_type": "display_data"
    },
    {
     "data": {
      "text/html": [
       "<br>    <style><br>        .wandb-row {<br>            display: flex;<br>            flex-direction: row;<br>            flex-wrap: wrap;<br>            justify-content: flex-start;<br>            width: 100%;<br>        }<br>        .wandb-col {<br>            display: flex;<br>            flex-direction: column;<br>            flex-basis: 100%;<br>            flex: 1;<br>            padding: 10px;<br>        }<br>    </style><br><div class=\"wandb-row\"><div class=\"wandb-col\"><h3>Run history:</h3><br/><table class=\"wandb\"><tr><td>Fold_0_rmse</td><td>▁</td></tr><tr><td>iteration</td><td>▁▁▁▁▂▂▂▂▂▂▂▂▃▃▃▃▃▃▃▃▃▃▃▄▄▄▄▄▅▅▅▆▆▆▆▇▇▇██</td></tr><tr><td>training_rmse</td><td>█▇▆▅▅▄▄▄▃▃▃▃▃▃▃▂▂▂▂▂▂▂▂▂▂▂▂▂▂▂▂▂▂▁▁▁▁▁▁▁</td></tr><tr><td>valid_1_rmse</td><td>█▆▆▅▄▃▃▃▂▂▂▂▂▂▂▂▂▂▂▂▂▂▂▂▂▂▁▁▁▁▁▁▁▁▁▁▁▁▁▁</td></tr></table><br/></div><div class=\"wandb-col\"><h3>Run summary:</h3><br/><table class=\"wandb\"><tr><td>Fold_0_rmse</td><td>0.44697</td></tr><tr><td>best_iteration</td><td>527</td></tr><tr><td>iteration</td><td>546</td></tr></table><br/></div></div>"
      ],
      "text/plain": [
       "<IPython.core.display.HTML object>"
      ]
     },
     "metadata": {},
     "output_type": "display_data"
    },
    {
     "data": {
      "text/html": [
       " View run <strong style=\"color:#cdcd00\">fold0</strong> at: <a href='https://wandb.ai/shaka066-personal/um-game-playing-strength-of-mcts-variants/runs/kiesdhcn' target=\"_blank\">https://wandb.ai/shaka066-personal/um-game-playing-strength-of-mcts-variants/runs/kiesdhcn</a><br> View project at: <a href='https://wandb.ai/shaka066-personal/um-game-playing-strength-of-mcts-variants' target=\"_blank\">https://wandb.ai/shaka066-personal/um-game-playing-strength-of-mcts-variants</a><br>Synced 5 W&B file(s), 1 media file(s), 4 artifact file(s) and 0 other file(s)"
      ],
      "text/plain": [
       "<IPython.core.display.HTML object>"
      ]
     },
     "metadata": {},
     "output_type": "display_data"
    },
    {
     "data": {
      "text/html": [
       "Find logs at: <code>.\\wandb\\run-20250502_222145-kiesdhcn\\logs</code>"
      ],
      "text/plain": [
       "<IPython.core.display.HTML object>"
      ]
     },
     "metadata": {},
     "output_type": "display_data"
    },
    {
     "name": "stderr",
     "output_type": "stream",
     "text": [
      " 20%|██        | 1/5 [00:24<01:36, 24.25s/it]"
     ]
    },
    {
     "data": {
      "text/html": [
       "Waiting for wandb.init()..."
      ],
      "text/plain": [
       "<IPython.core.display.HTML object>"
      ]
     },
     "metadata": {},
     "output_type": "display_data"
    },
    {
     "data": {
      "text/html": [
       "Tracking run with wandb version 0.19.10"
      ],
      "text/plain": [
       "<IPython.core.display.HTML object>"
      ]
     },
     "metadata": {},
     "output_type": "display_data"
    },
    {
     "data": {
      "text/html": [
       "Run data is saved locally in <code>c:\\Users\\337587\\PlayGround\\01_Personal\\Kaggle\\comp_002_GamePlayingStrength\\experiments\\exp001\\wandb\\run-20250502_222209-zxhvyf2a</code>"
      ],
      "text/plain": [
       "<IPython.core.display.HTML object>"
      ]
     },
     "metadata": {},
     "output_type": "display_data"
    },
    {
     "data": {
      "text/html": [
       "Syncing run <strong><a href='https://wandb.ai/shaka066-personal/um-game-playing-strength-of-mcts-variants/runs/zxhvyf2a' target=\"_blank\">fold1</a></strong> to <a href='https://wandb.ai/shaka066-personal/um-game-playing-strength-of-mcts-variants' target=\"_blank\">Weights & Biases</a> (<a href='https://wandb.me/developer-guide' target=\"_blank\">docs</a>)<br>"
      ],
      "text/plain": [
       "<IPython.core.display.HTML object>"
      ]
     },
     "metadata": {},
     "output_type": "display_data"
    },
    {
     "data": {
      "text/html": [
       " View project at <a href='https://wandb.ai/shaka066-personal/um-game-playing-strength-of-mcts-variants' target=\"_blank\">https://wandb.ai/shaka066-personal/um-game-playing-strength-of-mcts-variants</a>"
      ],
      "text/plain": [
       "<IPython.core.display.HTML object>"
      ]
     },
     "metadata": {},
     "output_type": "display_data"
    },
    {
     "data": {
      "text/html": [
       " View run at <a href='https://wandb.ai/shaka066-personal/um-game-playing-strength-of-mcts-variants/runs/zxhvyf2a' target=\"_blank\">https://wandb.ai/shaka066-personal/um-game-playing-strength-of-mcts-variants/runs/zxhvyf2a</a>"
      ],
      "text/plain": [
       "<IPython.core.display.HTML object>"
      ]
     },
     "metadata": {},
     "output_type": "display_data"
    },
    {
     "name": "stdout",
     "output_type": "stream",
     "text": [
      "Training until validation scores don't improve for 20 rounds\n",
      "[100]\ttraining's rmse: 0.359177\tvalid_1's rmse: 0.474143\n",
      "[200]\ttraining's rmse: 0.326145\tvalid_1's rmse: 0.467905\n",
      "[300]\ttraining's rmse: 0.304819\tvalid_1's rmse: 0.464186\n",
      "[400]\ttraining's rmse: 0.292036\tvalid_1's rmse: 0.461668\n",
      "[500]\ttraining's rmse: 0.280989\tvalid_1's rmse: 0.459294\n",
      "[600]\ttraining's rmse: 0.273016\tvalid_1's rmse: 0.458053\n",
      "Early stopping, best iteration is:\n",
      "[583]\ttraining's rmse: 0.273991\tvalid_1's rmse: 0.457987\n",
      "Fold 1 _rmse: 0.45799\n"
     ]
    },
    {
     "data": {
      "text/html": [],
      "text/plain": [
       "<IPython.core.display.HTML object>"
      ]
     },
     "metadata": {},
     "output_type": "display_data"
    },
    {
     "data": {
      "text/html": [
       "<br>    <style><br>        .wandb-row {<br>            display: flex;<br>            flex-direction: row;<br>            flex-wrap: wrap;<br>            justify-content: flex-start;<br>            width: 100%;<br>        }<br>        .wandb-col {<br>            display: flex;<br>            flex-direction: column;<br>            flex-basis: 100%;<br>            flex: 1;<br>            padding: 10px;<br>        }<br>    </style><br><div class=\"wandb-row\"><div class=\"wandb-col\"><h3>Run history:</h3><br/><table class=\"wandb\"><tr><td>Fold_1_rmse</td><td>▁</td></tr><tr><td>iteration</td><td>▁▁▁▂▂▂▂▂▂▂▃▃▃▃▃▃▃▃▃▄▄▄▄▄▄▅▅▅▅▅▆▆▆▆▇▇▇▇██</td></tr><tr><td>training_rmse</td><td>█▆▄▄▃▃▃▃▃▃▃▂▂▂▂▂▂▂▂▂▂▂▂▂▂▁▁▁▁▁▁▁▁▁▁▁▁▁▁▁</td></tr><tr><td>valid_1_rmse</td><td>█▅▅▄▃▂▂▂▂▂▂▂▂▂▂▁▁▁▁▁▁▁▁▁▁▁▁▁▁▁▁▁▁▁▁▁▁▁▁▁</td></tr></table><br/></div><div class=\"wandb-col\"><h3>Run summary:</h3><br/><table class=\"wandb\"><tr><td>Fold_1_rmse</td><td>0.45799</td></tr><tr><td>best_iteration</td><td>583</td></tr><tr><td>iteration</td><td>602</td></tr></table><br/></div></div>"
      ],
      "text/plain": [
       "<IPython.core.display.HTML object>"
      ]
     },
     "metadata": {},
     "output_type": "display_data"
    },
    {
     "data": {
      "text/html": [
       " View run <strong style=\"color:#cdcd00\">fold1</strong> at: <a href='https://wandb.ai/shaka066-personal/um-game-playing-strength-of-mcts-variants/runs/zxhvyf2a' target=\"_blank\">https://wandb.ai/shaka066-personal/um-game-playing-strength-of-mcts-variants/runs/zxhvyf2a</a><br> View project at: <a href='https://wandb.ai/shaka066-personal/um-game-playing-strength-of-mcts-variants' target=\"_blank\">https://wandb.ai/shaka066-personal/um-game-playing-strength-of-mcts-variants</a><br>Synced 5 W&B file(s), 1 media file(s), 4 artifact file(s) and 0 other file(s)"
      ],
      "text/plain": [
       "<IPython.core.display.HTML object>"
      ]
     },
     "metadata": {},
     "output_type": "display_data"
    },
    {
     "data": {
      "text/html": [
       "Find logs at: <code>.\\wandb\\run-20250502_222209-zxhvyf2a\\logs</code>"
      ],
      "text/plain": [
       "<IPython.core.display.HTML object>"
      ]
     },
     "metadata": {},
     "output_type": "display_data"
    },
    {
     "name": "stderr",
     "output_type": "stream",
     "text": [
      " 40%|████      | 2/5 [00:40<00:58, 19.41s/it]"
     ]
    },
    {
     "data": {
      "text/html": [
       "Waiting for wandb.init()..."
      ],
      "text/plain": [
       "<IPython.core.display.HTML object>"
      ]
     },
     "metadata": {},
     "output_type": "display_data"
    },
    {
     "data": {
      "text/html": [
       "Tracking run with wandb version 0.19.10"
      ],
      "text/plain": [
       "<IPython.core.display.HTML object>"
      ]
     },
     "metadata": {},
     "output_type": "display_data"
    },
    {
     "data": {
      "text/html": [
       "Run data is saved locally in <code>c:\\Users\\337587\\PlayGround\\01_Personal\\Kaggle\\comp_002_GamePlayingStrength\\experiments\\exp001\\wandb\\run-20250502_222225-f7rqquvi</code>"
      ],
      "text/plain": [
       "<IPython.core.display.HTML object>"
      ]
     },
     "metadata": {},
     "output_type": "display_data"
    },
    {
     "data": {
      "text/html": [
       "Syncing run <strong><a href='https://wandb.ai/shaka066-personal/um-game-playing-strength-of-mcts-variants/runs/f7rqquvi' target=\"_blank\">fold2</a></strong> to <a href='https://wandb.ai/shaka066-personal/um-game-playing-strength-of-mcts-variants' target=\"_blank\">Weights & Biases</a> (<a href='https://wandb.me/developer-guide' target=\"_blank\">docs</a>)<br>"
      ],
      "text/plain": [
       "<IPython.core.display.HTML object>"
      ]
     },
     "metadata": {},
     "output_type": "display_data"
    },
    {
     "data": {
      "text/html": [
       " View project at <a href='https://wandb.ai/shaka066-personal/um-game-playing-strength-of-mcts-variants' target=\"_blank\">https://wandb.ai/shaka066-personal/um-game-playing-strength-of-mcts-variants</a>"
      ],
      "text/plain": [
       "<IPython.core.display.HTML object>"
      ]
     },
     "metadata": {},
     "output_type": "display_data"
    },
    {
     "data": {
      "text/html": [
       " View run at <a href='https://wandb.ai/shaka066-personal/um-game-playing-strength-of-mcts-variants/runs/f7rqquvi' target=\"_blank\">https://wandb.ai/shaka066-personal/um-game-playing-strength-of-mcts-variants/runs/f7rqquvi</a>"
      ],
      "text/plain": [
       "<IPython.core.display.HTML object>"
      ]
     },
     "metadata": {},
     "output_type": "display_data"
    },
    {
     "name": "stdout",
     "output_type": "stream",
     "text": [
      "Training until validation scores don't improve for 20 rounds\n",
      "[100]\ttraining's rmse: 0.358436\tvalid_1's rmse: 0.453638\n",
      "[200]\ttraining's rmse: 0.326436\tvalid_1's rmse: 0.445631\n",
      "[300]\ttraining's rmse: 0.306888\tvalid_1's rmse: 0.441033\n",
      "[400]\ttraining's rmse: 0.292294\tvalid_1's rmse: 0.437973\n",
      "[500]\ttraining's rmse: 0.281381\tvalid_1's rmse: 0.435793\n",
      "[600]\ttraining's rmse: 0.272397\tvalid_1's rmse: 0.434103\n",
      "Early stopping, best iteration is:\n",
      "[648]\ttraining's rmse: 0.268163\tvalid_1's rmse: 0.433345\n",
      "Fold 2 _rmse: 0.43335\n"
     ]
    },
    {
     "data": {
      "text/html": [],
      "text/plain": [
       "<IPython.core.display.HTML object>"
      ]
     },
     "metadata": {},
     "output_type": "display_data"
    },
    {
     "data": {
      "text/html": [
       "<br>    <style><br>        .wandb-row {<br>            display: flex;<br>            flex-direction: row;<br>            flex-wrap: wrap;<br>            justify-content: flex-start;<br>            width: 100%;<br>        }<br>        .wandb-col {<br>            display: flex;<br>            flex-direction: column;<br>            flex-basis: 100%;<br>            flex: 1;<br>            padding: 10px;<br>        }<br>    </style><br><div class=\"wandb-row\"><div class=\"wandb-col\"><h3>Run history:</h3><br/><table class=\"wandb\"><tr><td>Fold_2_rmse</td><td>▁</td></tr><tr><td>iteration</td><td>▁▁▁▁▁▁▂▂▂▂▂▂▃▃▃▃▃▄▄▄▅▅▅▅▅▆▆▆▆▆▇▇▇▇▇▇████</td></tr><tr><td>training_rmse</td><td>██▄▄▃▃▂▂▂▂▂▂▂▂▂▂▂▂▂▂▂▂▂▂▂▁▁▁▁▁▁▁▁▁▁▁▁▁▁▁</td></tr><tr><td>valid_1_rmse</td><td>█▄▃▃▃▂▂▂▂▁▁▁▁▁▁▁▁▁▁▁▁▁▁▁▁▁▁▁▁▁▁▁▁▁▁▁▁▁▁▁</td></tr></table><br/></div><div class=\"wandb-col\"><h3>Run summary:</h3><br/><table class=\"wandb\"><tr><td>Fold_2_rmse</td><td>0.43335</td></tr><tr><td>best_iteration</td><td>648</td></tr><tr><td>iteration</td><td>667</td></tr></table><br/></div></div>"
      ],
      "text/plain": [
       "<IPython.core.display.HTML object>"
      ]
     },
     "metadata": {},
     "output_type": "display_data"
    },
    {
     "data": {
      "text/html": [
       " View run <strong style=\"color:#cdcd00\">fold2</strong> at: <a href='https://wandb.ai/shaka066-personal/um-game-playing-strength-of-mcts-variants/runs/f7rqquvi' target=\"_blank\">https://wandb.ai/shaka066-personal/um-game-playing-strength-of-mcts-variants/runs/f7rqquvi</a><br> View project at: <a href='https://wandb.ai/shaka066-personal/um-game-playing-strength-of-mcts-variants' target=\"_blank\">https://wandb.ai/shaka066-personal/um-game-playing-strength-of-mcts-variants</a><br>Synced 5 W&B file(s), 1 media file(s), 4 artifact file(s) and 0 other file(s)"
      ],
      "text/plain": [
       "<IPython.core.display.HTML object>"
      ]
     },
     "metadata": {},
     "output_type": "display_data"
    },
    {
     "data": {
      "text/html": [
       "Find logs at: <code>.\\wandb\\run-20250502_222225-f7rqquvi\\logs</code>"
      ],
      "text/plain": [
       "<IPython.core.display.HTML object>"
      ]
     },
     "metadata": {},
     "output_type": "display_data"
    },
    {
     "name": "stderr",
     "output_type": "stream",
     "text": [
      " 60%|██████    | 3/5 [00:57<00:36, 18.27s/it]"
     ]
    },
    {
     "data": {
      "text/html": [
       "Waiting for wandb.init()..."
      ],
      "text/plain": [
       "<IPython.core.display.HTML object>"
      ]
     },
     "metadata": {},
     "output_type": "display_data"
    },
    {
     "data": {
      "text/html": [
       "Tracking run with wandb version 0.19.10"
      ],
      "text/plain": [
       "<IPython.core.display.HTML object>"
      ]
     },
     "metadata": {},
     "output_type": "display_data"
    },
    {
     "data": {
      "text/html": [
       "Run data is saved locally in <code>c:\\Users\\337587\\PlayGround\\01_Personal\\Kaggle\\comp_002_GamePlayingStrength\\experiments\\exp001\\wandb\\run-20250502_222242-vmkev0en</code>"
      ],
      "text/plain": [
       "<IPython.core.display.HTML object>"
      ]
     },
     "metadata": {},
     "output_type": "display_data"
    },
    {
     "data": {
      "text/html": [
       "Syncing run <strong><a href='https://wandb.ai/shaka066-personal/um-game-playing-strength-of-mcts-variants/runs/vmkev0en' target=\"_blank\">fold3</a></strong> to <a href='https://wandb.ai/shaka066-personal/um-game-playing-strength-of-mcts-variants' target=\"_blank\">Weights & Biases</a> (<a href='https://wandb.me/developer-guide' target=\"_blank\">docs</a>)<br>"
      ],
      "text/plain": [
       "<IPython.core.display.HTML object>"
      ]
     },
     "metadata": {},
     "output_type": "display_data"
    },
    {
     "data": {
      "text/html": [
       " View project at <a href='https://wandb.ai/shaka066-personal/um-game-playing-strength-of-mcts-variants' target=\"_blank\">https://wandb.ai/shaka066-personal/um-game-playing-strength-of-mcts-variants</a>"
      ],
      "text/plain": [
       "<IPython.core.display.HTML object>"
      ]
     },
     "metadata": {},
     "output_type": "display_data"
    },
    {
     "data": {
      "text/html": [
       " View run at <a href='https://wandb.ai/shaka066-personal/um-game-playing-strength-of-mcts-variants/runs/vmkev0en' target=\"_blank\">https://wandb.ai/shaka066-personal/um-game-playing-strength-of-mcts-variants/runs/vmkev0en</a>"
      ],
      "text/plain": [
       "<IPython.core.display.HTML object>"
      ]
     },
     "metadata": {},
     "output_type": "display_data"
    },
    {
     "name": "stdout",
     "output_type": "stream",
     "text": [
      "Training until validation scores don't improve for 20 rounds\n",
      "[100]\ttraining's rmse: 0.363435\tvalid_1's rmse: 0.455201\n",
      "[200]\ttraining's rmse: 0.332056\tvalid_1's rmse: 0.446086\n",
      "[300]\ttraining's rmse: 0.312172\tvalid_1's rmse: 0.440017\n",
      "[400]\ttraining's rmse: 0.297457\tvalid_1's rmse: 0.436832\n",
      "[500]\ttraining's rmse: 0.28566\tvalid_1's rmse: 0.434094\n",
      "[600]\ttraining's rmse: 0.275029\tvalid_1's rmse: 0.430989\n",
      "[700]\ttraining's rmse: 0.266541\tvalid_1's rmse: 0.429776\n",
      "[800]\ttraining's rmse: 0.258851\tvalid_1's rmse: 0.428509\n",
      "Early stopping, best iteration is:\n",
      "[789]\ttraining's rmse: 0.259416\tvalid_1's rmse: 0.42836\n",
      "Fold 3 _rmse: 0.42836\n"
     ]
    },
    {
     "data": {
      "text/html": [],
      "text/plain": [
       "<IPython.core.display.HTML object>"
      ]
     },
     "metadata": {},
     "output_type": "display_data"
    },
    {
     "data": {
      "text/html": [
       "<br>    <style><br>        .wandb-row {<br>            display: flex;<br>            flex-direction: row;<br>            flex-wrap: wrap;<br>            justify-content: flex-start;<br>            width: 100%;<br>        }<br>        .wandb-col {<br>            display: flex;<br>            flex-direction: column;<br>            flex-basis: 100%;<br>            flex: 1;<br>            padding: 10px;<br>        }<br>    </style><br><div class=\"wandb-row\"><div class=\"wandb-col\"><h3>Run history:</h3><br/><table class=\"wandb\"><tr><td>Fold_3_rmse</td><td>▁</td></tr><tr><td>iteration</td><td>▁▁▂▂▂▂▂▂▂▂▃▃▃▃▃▄▄▄▄▄▄▄▅▅▅▅▅▆▆▆▆▆▆▇▇▇████</td></tr><tr><td>training_rmse</td><td>██▆▅▅▄▄▄▄▄▄▃▃▃▃▃▃▃▃▃▃▂▂▂▂▂▂▂▂▂▂▂▂▂▂▁▁▁▁▁</td></tr><tr><td>valid_1_rmse</td><td>█▇▇▅▄▄▃▃▃▂▂▂▂▂▂▂▂▂▂▂▂▂▂▂▂▂▂▁▁▁▁▁▁▁▁▁▁▁▁▁</td></tr></table><br/></div><div class=\"wandb-col\"><h3>Run summary:</h3><br/><table class=\"wandb\"><tr><td>Fold_3_rmse</td><td>0.42836</td></tr><tr><td>best_iteration</td><td>789</td></tr><tr><td>iteration</td><td>808</td></tr></table><br/></div></div>"
      ],
      "text/plain": [
       "<IPython.core.display.HTML object>"
      ]
     },
     "metadata": {},
     "output_type": "display_data"
    },
    {
     "data": {
      "text/html": [
       " View run <strong style=\"color:#cdcd00\">fold3</strong> at: <a href='https://wandb.ai/shaka066-personal/um-game-playing-strength-of-mcts-variants/runs/vmkev0en' target=\"_blank\">https://wandb.ai/shaka066-personal/um-game-playing-strength-of-mcts-variants/runs/vmkev0en</a><br> View project at: <a href='https://wandb.ai/shaka066-personal/um-game-playing-strength-of-mcts-variants' target=\"_blank\">https://wandb.ai/shaka066-personal/um-game-playing-strength-of-mcts-variants</a><br>Synced 5 W&B file(s), 1 media file(s), 4 artifact file(s) and 0 other file(s)"
      ],
      "text/plain": [
       "<IPython.core.display.HTML object>"
      ]
     },
     "metadata": {},
     "output_type": "display_data"
    },
    {
     "data": {
      "text/html": [
       "Find logs at: <code>.\\wandb\\run-20250502_222242-vmkev0en\\logs</code>"
      ],
      "text/plain": [
       "<IPython.core.display.HTML object>"
      ]
     },
     "metadata": {},
     "output_type": "display_data"
    },
    {
     "name": "stderr",
     "output_type": "stream",
     "text": [
      " 80%|████████  | 4/5 [01:15<00:18, 18.36s/it]"
     ]
    },
    {
     "data": {
      "text/html": [
       "creating run (0.0s)"
      ],
      "text/plain": [
       "<IPython.core.display.HTML object>"
      ]
     },
     "metadata": {},
     "output_type": "display_data"
    },
    {
     "data": {
      "text/html": [
       "Tracking run with wandb version 0.19.10"
      ],
      "text/plain": [
       "<IPython.core.display.HTML object>"
      ]
     },
     "metadata": {},
     "output_type": "display_data"
    },
    {
     "data": {
      "text/html": [
       "Run data is saved locally in <code>c:\\Users\\337587\\PlayGround\\01_Personal\\Kaggle\\comp_002_GamePlayingStrength\\experiments\\exp001\\wandb\\run-20250502_222300-poehqe9w</code>"
      ],
      "text/plain": [
       "<IPython.core.display.HTML object>"
      ]
     },
     "metadata": {},
     "output_type": "display_data"
    },
    {
     "data": {
      "text/html": [
       "Syncing run <strong><a href='https://wandb.ai/shaka066-personal/um-game-playing-strength-of-mcts-variants/runs/poehqe9w' target=\"_blank\">fold4</a></strong> to <a href='https://wandb.ai/shaka066-personal/um-game-playing-strength-of-mcts-variants' target=\"_blank\">Weights & Biases</a> (<a href='https://wandb.me/developer-guide' target=\"_blank\">docs</a>)<br>"
      ],
      "text/plain": [
       "<IPython.core.display.HTML object>"
      ]
     },
     "metadata": {},
     "output_type": "display_data"
    },
    {
     "data": {
      "text/html": [
       " View project at <a href='https://wandb.ai/shaka066-personal/um-game-playing-strength-of-mcts-variants' target=\"_blank\">https://wandb.ai/shaka066-personal/um-game-playing-strength-of-mcts-variants</a>"
      ],
      "text/plain": [
       "<IPython.core.display.HTML object>"
      ]
     },
     "metadata": {},
     "output_type": "display_data"
    },
    {
     "data": {
      "text/html": [
       " View run at <a href='https://wandb.ai/shaka066-personal/um-game-playing-strength-of-mcts-variants/runs/poehqe9w' target=\"_blank\">https://wandb.ai/shaka066-personal/um-game-playing-strength-of-mcts-variants/runs/poehqe9w</a>"
      ],
      "text/plain": [
       "<IPython.core.display.HTML object>"
      ]
     },
     "metadata": {},
     "output_type": "display_data"
    },
    {
     "name": "stdout",
     "output_type": "stream",
     "text": [
      "Training until validation scores don't improve for 20 rounds\n",
      "[100]\ttraining's rmse: 0.356972\tvalid_1's rmse: 0.446606\n",
      "[200]\ttraining's rmse: 0.325619\tvalid_1's rmse: 0.43695\n",
      "[300]\ttraining's rmse: 0.306908\tvalid_1's rmse: 0.432406\n",
      "[400]\ttraining's rmse: 0.292509\tvalid_1's rmse: 0.429324\n",
      "[500]\ttraining's rmse: 0.280443\tvalid_1's rmse: 0.426489\n",
      "Early stopping, best iteration is:\n",
      "[570]\ttraining's rmse: 0.274403\tvalid_1's rmse: 0.425189\n",
      "Fold 4 _rmse: 0.42519\n"
     ]
    },
    {
     "data": {
      "text/html": [],
      "text/plain": [
       "<IPython.core.display.HTML object>"
      ]
     },
     "metadata": {},
     "output_type": "display_data"
    },
    {
     "data": {
      "text/html": [
       "<br>    <style><br>        .wandb-row {<br>            display: flex;<br>            flex-direction: row;<br>            flex-wrap: wrap;<br>            justify-content: flex-start;<br>            width: 100%;<br>        }<br>        .wandb-col {<br>            display: flex;<br>            flex-direction: column;<br>            flex-basis: 100%;<br>            flex: 1;<br>            padding: 10px;<br>        }<br>    </style><br><div class=\"wandb-row\"><div class=\"wandb-col\"><h3>Run history:</h3><br/><table class=\"wandb\"><tr><td>Fold_4_rmse</td><td>▁</td></tr><tr><td>iteration</td><td>▁▁▁▂▂▂▂▃▃▃▃▃▃▃▄▄▄▄▄▄▄▄▄▅▅▅▅▅▆▆▆▆▇▇▇▇████</td></tr><tr><td>training_rmse</td><td>█▆▆▅▄▄▄▃▃▃▃▃▃▃▃▃▃▃▂▂▂▂▂▂▂▂▂▂▂▂▂▁▁▁▁▁▁▁▁▁</td></tr><tr><td>valid_1_rmse</td><td>█▄▃▂▂▂▂▂▂▂▂▁▁▁▁▁▁▁▁▁▁▁▁▁▁▁▁▁▁▁▁▁▁▁▁▁▁▁▁▁</td></tr></table><br/></div><div class=\"wandb-col\"><h3>Run summary:</h3><br/><table class=\"wandb\"><tr><td>Fold_4_rmse</td><td>0.42519</td></tr><tr><td>best_iteration</td><td>570</td></tr><tr><td>iteration</td><td>589</td></tr></table><br/></div></div>"
      ],
      "text/plain": [
       "<IPython.core.display.HTML object>"
      ]
     },
     "metadata": {},
     "output_type": "display_data"
    },
    {
     "data": {
      "text/html": [
       " View run <strong style=\"color:#cdcd00\">fold4</strong> at: <a href='https://wandb.ai/shaka066-personal/um-game-playing-strength-of-mcts-variants/runs/poehqe9w' target=\"_blank\">https://wandb.ai/shaka066-personal/um-game-playing-strength-of-mcts-variants/runs/poehqe9w</a><br> View project at: <a href='https://wandb.ai/shaka066-personal/um-game-playing-strength-of-mcts-variants' target=\"_blank\">https://wandb.ai/shaka066-personal/um-game-playing-strength-of-mcts-variants</a><br>Synced 5 W&B file(s), 1 media file(s), 4 artifact file(s) and 0 other file(s)"
      ],
      "text/plain": [
       "<IPython.core.display.HTML object>"
      ]
     },
     "metadata": {},
     "output_type": "display_data"
    },
    {
     "data": {
      "text/html": [
       "Find logs at: <code>.\\wandb\\run-20250502_222300-poehqe9w\\logs</code>"
      ],
      "text/plain": [
       "<IPython.core.display.HTML object>"
      ]
     },
     "metadata": {},
     "output_type": "display_data"
    },
    {
     "name": "stderr",
     "output_type": "stream",
     "text": [
      "100%|██████████| 5/5 [01:31<00:00, 18.35s/it]\n"
     ]
    }
   ],
   "source": [
    "lgb_scores = []\n",
    "lgb_models = []\n",
    "for fold in tqdm(range(config.n_splits)):\n",
    "    wandb.init(\n",
    "        project=config.project,\n",
    "        group=config.experiment_name,\n",
    "        name=f\"fold{fold}\",\n",
    "        config=class_to_dict(config),\n",
    "    )\n",
    "\n",
    "    df_tr = df_train[df_train[\"fold\"] != fold].reset_index(drop=True)\n",
    "    df_val = df_train[df_train[\"fold\"] == fold].reset_index(drop=True)\n",
    "\n",
    "    train_data = lgb.Dataset(df_tr[train_cols], label=df_tr[config.target])\n",
    "    valid_data = lgb.Dataset(\n",
    "        df_val[train_cols], label=df_val[config.target], reference=train_data\n",
    "    )\n",
    "\n",
    "    model = lgb.train(\n",
    "        params,\n",
    "        train_data,\n",
    "        num_boost_round=config.n_estimators,\n",
    "        valid_sets=[train_data, valid_data],\n",
    "        callbacks=[\n",
    "            lgb.early_stopping(stopping_rounds=config.stopping_rounds, verbose=True),\n",
    "            lgb.log_evaluation(config.log_evaluation),\n",
    "            wandb_callback(),\n",
    "        ],\n",
    "    )\n",
    "\n",
    "    # 検証データへの予測\n",
    "    preds = model.predict(df_val[train_cols], num_iteration=model.best_iteration)\n",
    "    score = np.sqrt(mean_squared_error(df_val[config.target], preds))\n",
    "    print(f\"Fold {fold} _rmse: {score:.5f}\")\n",
    "\n",
    "    # wandbに　各foldのスコアを記録\n",
    "    wandb.log({f\"Fold_{fold}_rmse\": score})\n",
    "    log_summary(model, save_model_checkpoint=True)\n",
    "\n",
    "    lgb_scores.append(score)\n",
    "    lgb_models.append(model)\n",
    "\n",
    "    wandb.finish()"
   ]
  },
  {
   "cell_type": "code",
   "execution_count": 34,
   "id": "bf44cc7f",
   "metadata": {},
   "outputs": [
    {
     "name": "stdout",
     "output_type": "stream",
     "text": [
      "LGBM Score: 0.43837\n"
     ]
    }
   ],
   "source": [
    "# 全foldの平均スコアを計算\n",
    "lgbm_score = np.mean(lgb_scores)\n",
    "print(f\"LGBM Score: {lgbm_score:.5f}\")"
   ]
  },
  {
   "cell_type": "code",
   "execution_count": 35,
   "id": "f1ef9319",
   "metadata": {},
   "outputs": [
    {
     "name": "stdout",
     "output_type": "stream",
     "text": [
      "      feature_importance                 column  fold\n",
      "0                     40             Stochastic     1\n",
      "1                     71             Asymmetric     1\n",
      "2                      0       AsymmetricForces     1\n",
      "3                      0   AsymmetricPiecesType     1\n",
      "4                     84  PlayersWithDirections     1\n",
      "...                  ...                    ...   ...\n",
      "3065                 139          agent1_param4     5\n",
      "3066                 950          agent2_param1     5\n",
      "3067                 804          agent2_param2     5\n",
      "3068                1187          agent2_param3     5\n",
      "3069                 107          agent2_param4     5\n",
      "\n",
      "[3070 rows x 3 columns]\n"
     ]
    },
    {
     "data": {
      "text/plain": [
       "(<Figure size 800x1250 with 1 Axes>,\n",
       " <Axes: title={'center': 'Importance'}, xlabel='feature_importance', ylabel='column'>)"
      ]
     },
     "execution_count": 35,
     "metadata": {},
     "output_type": "execute_result"
    },
    {
     "data": {
      "image/png": "[encoded data removed]",
      "text/plain": [
       "<Figure size 800x1250 with 1 Axes>"
      ]
     },
     "metadata": {},
     "output_type": "display_data"
    }
   ],
   "source": [
    "# 参考: https://www.guruguru.science/competitions/24/discussions/5bc8532f-9836-4da9-bfc4-7adc7c1444dd/\n",
    "def visualize_importance(models, feat_train_df):\n",
    "    \"\"\"lightGBM の model 配列の feature importance を plot する\n",
    "    CVごとのブレを boxen plot として表現します.\n",
    "\n",
    "    args:\n",
    "        models:\n",
    "            List of lightGBM models\n",
    "        feat_train_df:\n",
    "            学習時に使った DataFrame\n",
    "    \"\"\"\n",
    "    feature_importance_df = pd.DataFrame()\n",
    "    for i, model in enumerate(models):\n",
    "        _df = pd.DataFrame()\n",
    "        _df[\"feature_importance\"] = model.feature_importance()\n",
    "        _df[\"column\"] = feat_train_df.columns\n",
    "        _df[\"fold\"] = i + 1\n",
    "        feature_importance_df = pd.concat(\n",
    "            [feature_importance_df, _df], axis=0, ignore_index=True\n",
    "        )\n",
    "\n",
    "    order = (\n",
    "        feature_importance_df.groupby(\"column\")\n",
    "        .sum()[[\"feature_importance\"]]\n",
    "        .sort_values(\"feature_importance\", ascending=False)\n",
    "        .index[:50]\n",
    "    )\n",
    "    print(feature_importance_df)\n",
    "\n",
    "    fig, ax = plt.subplots(figsize=(8, max(6, len(order) * 0.25)))\n",
    "    sns.boxenplot(\n",
    "        data=feature_importance_df,\n",
    "        x=\"feature_importance\",\n",
    "        y=\"column\",\n",
    "        order=order,\n",
    "        ax=ax,\n",
    "        palette=\"viridis\",\n",
    "        orient=\"h\",\n",
    "    )\n",
    "    ax.tick_params(axis=\"x\", rotation=90)\n",
    "    ax.set_title(\"Importance\")\n",
    "    ax.grid()\n",
    "    fig.tight_layout()\n",
    "    return fig, ax\n",
    "\n",
    "\n",
    "# 特徴量重要度のプロット\n",
    "visualize_importance(lgb_models, df_train[train_cols])"
   ]
  },
  {
   "cell_type": "code",
   "execution_count": 36,
   "id": "197318fa",
   "metadata": {},
   "outputs": [],
   "source": [
    "preds = np.mean(\n",
    "    [\n",
    "        model.predict(df_test[train_cols], num_iteration=model.best_iteration)\n",
    "        for model in lgb_models\n",
    "    ],\n",
    "    0,\n",
    ")"
   ]
  },
  {
   "cell_type": "code",
   "execution_count": 42,
   "id": "47a9b091",
   "metadata": {},
   "outputs": [
    {
     "data": {
      "text/html": [
       "<div>\n",
       "<style scoped>\n",
       "    .dataframe tbody tr th:only-of-type {\n",
       "        vertical-align: middle;\n",
       "    }\n",
       "\n",
       "    .dataframe tbody tr th {\n",
       "        vertical-align: top;\n",
       "    }\n",
       "\n",
       "    .dataframe thead th {\n",
       "        text-align: right;\n",
       "    }\n",
       "</style>\n",
       "<table border=\"1\" class=\"dataframe\">\n",
       "  <thead>\n",
       "    <tr style=\"text-align: right;\">\n",
       "      <th></th>\n",
       "      <th>Id</th>\n",
       "      <th>utility_agent1</th>\n",
       "    </tr>\n",
       "  </thead>\n",
       "  <tbody>\n",
       "    <tr>\n",
       "      <th>0</th>\n",
       "      <td>233234</td>\n",
       "      <td>0.119464</td>\n",
       "    </tr>\n",
       "    <tr>\n",
       "      <th>1</th>\n",
       "      <td>233235</td>\n",
       "      <td>-0.148440</td>\n",
       "    </tr>\n",
       "    <tr>\n",
       "      <th>2</th>\n",
       "      <td>233236</td>\n",
       "      <td>0.051456</td>\n",
       "    </tr>\n",
       "  </tbody>\n",
       "</table>\n",
       "</div>"
      ],
      "text/plain": [
       "       Id  utility_agent1\n",
       "0  233234        0.119464\n",
       "1  233235       -0.148440\n",
       "2  233236        0.051456"
      ]
     },
     "execution_count": 42,
     "metadata": {},
     "output_type": "execute_result"
    }
   ],
   "source": [
    "config.submission_path = r\"C:\\Users\\337587\\PlayGround\\01_Personal\\Kaggle\\comp_002_GamePlayingStrength\\data\\sample_submission.csv\"\n",
    "\n",
    "df_sub = pd.read_csv(config.submission_path)\n",
    "df_sub[config.target] = preds.reshape(-1, 1) \n",
    "df_sub"
   ]
  },
  {
   "cell_type": "code",
   "execution_count": null,
   "id": "eb35de67",
   "metadata": {},
   "outputs": [],
   "source": []
  }
 ],
 "metadata": {
  "kernelspec": {
   "display_name": "venv01",
   "language": "python",
   "name": "python3"
  },
  "language_info": {
   "codemirror_mode": {
    "name": "ipython",
    "version": 3
   },
   "file_extension": ".py",
   "mimetype": "text/x-python",
   "name": "python",
   "nbconvert_exporter": "python",
   "pygments_lexer": "ipython3",
   "version": "3.11.9"
  }
 },
 "nbformat": 4,
 "nbformat_minor": 5
}
