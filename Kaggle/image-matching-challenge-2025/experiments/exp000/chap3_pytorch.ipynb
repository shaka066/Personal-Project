{
 "cells": [
  {
   "cell_type": "markdown",
   "id": "179f563b",
   "metadata": {},
   "source": [
    "# %% [markdown]\n",
    "# ## Chap 2: PyTorch & KORNIA 入門\n",
    "# このノートでは、PyTorch と Kornia を使って画像を読み込み、前処理し、特徴点を検出する基本を学びます。\n",
    "# \n",
    "# サンプル画像パス:\n",
    "# `C:\\Users\\337587\\PlayGround\\01_Personal\\Kaggle\\image-matching-challenge-2025\\data\\train\\imc2024_lizard_pond\\lizard_00003.png`\n",
    "\n",
    "# %% [markdown]\n",
    "# ### 1. ライブラリのインポートとデバイス設定\n"
   ]
  },
  {
   "cell_type": "code",
   "execution_count": 2,
   "id": "be4d3725",
   "metadata": {},
   "outputs": [
    {
     "name": "stdout",
     "output_type": "stream",
     "text": [
      "Using device: cuda\n"
     ]
    }
   ],
   "source": [
    "\n",
    "# %%\n",
    "import os\n",
    "import numpy as np\n",
    "import torch\n",
    "import kornia as K\n",
    "import matplotlib.pyplot as plt\n",
    "from PIL import Image\n",
    "\n",
    "# PyTorch: GPU が使えるか確認し、device を設定\n",
    "device = torch.device('cuda' if torch.cuda.is_available() else 'cpu')\n",
    "print(f\"Using device: {device}\")\n",
    "\n",
    "# %% [markdown]\n"
   ]
  },
  {
   "cell_type": "code",
   "execution_count": null,
   "id": "0e58aa64",
   "metadata": {},
   "outputs": [],
   "source": [
    "# ### 2. 画像の読み込み・表示\n",
    "# - PIL で開き、NumPy 配列に変換\n",
    "# - Kornia のユーティリティで Tensor に変換／表示\n",
    "\n",
    "# %%\n",
    "# パスの設定\n",
    "img_path = r\"C:\\Users\\337587\\PlayGround\\01_Personal\\Kaggle\\image-matching-challenge-2025\\data\\train\\imc2024_lizard_pond\\lizard_00003.png\"\n",
    "# PIL で読み込み\n",
    "img_pil = Image.open(img_path).convert('RGB')\n",
    "# NumPy 配列 (H, W, C)\n",
    "img_np = np.array(img_pil)\n",
    "\n",
    "# NumPy を Tensor (C, H, W) に変換し、0-1 正規化\n",
    "from kornia.utils import image_to_tensor, tensor_to_image\n",
    "img_tensor = image_to_tensor(img_np, keepdim=False).float() / 255.0  # shape [3, H, W]\n",
    "img_tensor = img_tensor.to(device)\n",
    "\n",
    "# Matplotlib で表示 (Tensor -> NumPy)\n",
    "plt.figure(figsize=(6,6))\n",
    "plt.imshow(tensor_to_image(img_tensor))\n",
    "plt.axis('off')\n",
    "plt.title('Original Image')\n",
    "plt.show()\n"
   ]
  },
  {
   "cell_type": "code",
   "execution_count": null,
   "id": "a188c81e",
   "metadata": {},
   "outputs": [],
   "source": [
    "\n",
    "# %% [markdown]\n",
    "# ### 3. 基本的な前処理: グレースケール化 & リサイズ\n",
    "\n",
    "# %%\n",
    "# グレースケール化 (shape [1, H, W])\n",
    "gray_tensor = K.color.rgb_to_grayscale(img_tensor)\n",
    "# リサイズ (PyTorch Tensor のみ)\n",
    "resized_tensor = K.geometry.transform.resize(img_tensor.unsqueeze(0), (256, 256)).squeeze(0)\n",
    "\n",
    "# 表示: グレースケール\n",
    "plt.figure(figsize=(5,5))\n",
    "plt.imshow(tensor_to_image(gray_tensor), cmap='gray')\n",
    "plt.axis('off')\n",
    "plt.title('Grayscale Image')\n",
    "plt.show()\n",
    "\n",
    "# 表示: リサイズ\n",
    "plt.figure(figsize=(5,5))\n",
    "plt.imshow(tensor_to_image(resized_tensor))\n",
    "plt.axis('off')\n",
    "plt.title('Resized to 256×256')\n",
    "plt.show()\n"
   ]
  },
  {
   "cell_type": "code",
   "execution_count": null,
   "id": "55d6ba2d",
   "metadata": {},
   "outputs": [],
   "source": [
    "\n",
    "# %% [markdown]\n",
    "# ### 4. エッジ検出 (Canny フィルタ)\n",
    "\n",
    "# %%\n",
    "# Kornia の Canny\n",
    "canny = K.filters.Canny(low_threshold=0.1, high_threshold=0.2)\n",
    "# Canny に入れるには [B, 1, H, W]\n",
    "edges = canny(gray_tensor.unsqueeze(0))[0][0]\n",
    "\n",
    "plt.figure(figsize=(5,5))\n",
    "plt.imshow(edges.cpu().numpy(), cmap='gray')\n",
    "plt.axis('off')\n",
    "plt.title('Canny Edges')\n",
    "plt.show()\n"
   ]
  },
  {
   "cell_type": "code",
   "execution_count": null,
   "id": "278e5b92",
   "metadata": {},
   "outputs": [],
   "source": [
    "\n",
    "# %% [markdown]\n",
    "# ### 5. 特徴点検出 (Harris 角検出)\n",
    "# - Harris コーナー反応関数を計算し、ピークを抽出\n",
    "\n",
    "# %%\n",
    "# Harris 反応マップ [B, 1, H, W]\n",
    "harris_response = K.feature.harris_response(gray_tensor.unsqueeze(0), k=0.04)\n",
    "# 上位 50 点のピーク位置を取得\n",
    "coords = K.feature.corner_peaks(harris_response, num_peaks=50, threshold=0.01)\n",
    "# coords は [B, N, 2] (y, x)\n",
    "points = coords[0].cpu().numpy()\n",
    "\n",
    "# キーポイントを描画\n",
    "from kornia.utils import draw_keypoints\n",
    "# draw_keypoints: 入力は [B, C, H, W]、coords 正規化不要\n",
    "vis = draw_keypoints(img_tensor.unsqueeze(0), coords, r=3)\n",
    "\n",
    "plt.figure(figsize=(6,6))\n",
    "plt.imshow(tensor_to_image(vis.squeeze(0)))\n",
    "plt.axis('off')\n",
    "plt.title('Harris Keypoints')\n",
    "plt.show()\n"
   ]
  },
  {
   "cell_type": "markdown",
   "id": "10d36b49",
   "metadata": {},
   "source": [
    "\n",
    "# %% [markdown]\n",
    "# ## 次のステップ\n",
    "# - 特徴記述子 (SIFT/ORB) を使った記述子抽出\n",
    "# - コサイン距離／kNN によるマッチング\n",
    "# - 小規模なペアで検出→マッチング→可視化を試してみましょう。\n"
   ]
  },
  {
   "cell_type": "markdown",
   "id": "76b17170",
   "metadata": {},
   "source": []
  }
 ],
 "metadata": {
  "kernelspec": {
   "display_name": "venv01",
   "language": "python",
   "name": "python3"
  },
  "language_info": {
   "codemirror_mode": {
    "name": "ipython",
    "version": 3
   },
   "file_extension": ".py",
   "mimetype": "text/x-python",
   "name": "python",
   "nbconvert_exporter": "python",
   "pygments_lexer": "ipython3",
   "version": "3.11.9"
  }
 },
 "nbformat": 4,
 "nbformat_minor": 5
}
