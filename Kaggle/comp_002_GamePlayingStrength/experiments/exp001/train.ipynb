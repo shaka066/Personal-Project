{
 "cells": [
  {
   "cell_type": "code",
   "execution_count": 1,
   "id": "e242bc6e",
   "metadata": {},
   "outputs": [
    {
     "ename": "ModuleNotFoundError",
     "evalue": "No module named 'lightgbm'",
     "output_type": "error",
     "traceback": [
      "\u001b[31m---------------------------------------------------------------------------\u001b[39m",
      "\u001b[31mModuleNotFoundError\u001b[39m                       Traceback (most recent call last)",
      "\u001b[36mCell\u001b[39m\u001b[36m \u001b[39m\u001b[32mIn[1]\u001b[39m\u001b[32m, line 9\u001b[39m\n\u001b[32m      7\u001b[39m \u001b[38;5;28;01mimport\u001b[39;00m\u001b[38;5;250m \u001b[39m\u001b[34;01mmatplotlib\u001b[39;00m\u001b[34;01m.\u001b[39;00m\u001b[34;01mpyplot\u001b[39;00m\u001b[38;5;250m \u001b[39m\u001b[38;5;28;01mas\u001b[39;00m\u001b[38;5;250m \u001b[39m\u001b[34;01mplt\u001b[39;00m\n\u001b[32m      8\u001b[39m \u001b[38;5;28;01mimport\u001b[39;00m\u001b[38;5;250m \u001b[39m\u001b[34;01mseaborn\u001b[39;00m\u001b[38;5;250m \u001b[39m\u001b[38;5;28;01mas\u001b[39;00m\u001b[38;5;250m \u001b[39m\u001b[34;01msns\u001b[39;00m\n\u001b[32m----> \u001b[39m\u001b[32m9\u001b[39m \u001b[38;5;28;01mimport\u001b[39;00m\u001b[38;5;250m \u001b[39m\u001b[34;01mlightgbm\u001b[39;00m\u001b[38;5;250m \u001b[39m\u001b[38;5;28;01mas\u001b[39;00m\u001b[38;5;250m \u001b[39m\u001b[34;01mlgb\u001b[39;00m\n\u001b[32m     10\u001b[39m \u001b[38;5;28;01mfrom\u001b[39;00m\u001b[38;5;250m \u001b[39m\u001b[34;01msklearn\u001b[39;00m\u001b[34;01m.\u001b[39;00m\u001b[34;01mmetrics\u001b[39;00m\u001b[38;5;250m \u001b[39m\u001b[38;5;28;01mimport\u001b[39;00m mean_squared_error\n\u001b[32m     11\u001b[39m \u001b[38;5;28;01mfrom\u001b[39;00m\u001b[38;5;250m \u001b[39m\u001b[34;01msklearn\u001b[39;00m\u001b[34;01m.\u001b[39;00m\u001b[34;01mmodel_selection\u001b[39;00m\u001b[38;5;250m \u001b[39m\u001b[38;5;28;01mimport\u001b[39;00m StratifiedGroupKFold\n",
      "\u001b[31mModuleNotFoundError\u001b[39m: No module named 'lightgbm'"
     ]
    }
   ],
   "source": [
    "import os\n",
    "import random\n",
    "import warnings\n",
    "\n",
    "import numpy as np\n",
    "import pandas as pd\n",
    "import matplotlib.pyplot as plt\n",
    "import seaborn as sns\n",
    "import lightgbm as lgb\n",
    "from sklearn.metrics import mean_squared_error\n",
    "from sklearn.model_selection import StratifiedGroupKFold\n",
    "from tqdm.auto import tqdm\n",
    "\n",
    "import wandb\n",
    "from wandb.integration.lightgbm import log_summary, wandb_callback\n",
    "\n",
    "from kaggle_secrets import UserSecretsClient\n",
    "\n",
    "plt.style.use(\"ggplot\")\n",
    "warnings.filterwarnings(\"ignore\")"
   ]
  },
  {
   "cell_type": "code",
   "execution_count": null,
   "id": "ad9e86d2",
   "metadata": {},
   "outputs": [],
   "source": [
    "\n",
    "user_secrets = UserSecretsClient()\n",
    "secret_value_0 = user_secrets.get_secret(\"wandb_api_key\")\n",
    "\n",
    "wandb.login(key=secret_value_0)"
   ]
  },
  {
   "cell_type": "code",
   "execution_count": null,
   "id": "86ddf1ee",
   "metadata": {},
   "outputs": [],
   "source": [
    "class CFG:\n",
    "    # WandB\n",
    "    experiment_name = \"exp001\"\n",
    "    project = \"um-game-playing-strength-of-mcts-variants\"\n",
    "\n",
    "    # Setting\n",
    "    seed = 42\n",
    "    train_path = \"/kaggle/input/um-game-playing-strength-of-mcts-variants/train.csv\"\n",
    "    test_path = \"/kaggle/input/um-game-playing-strength-of-mcts-variants/test.csv\"\n",
    "    submission_path = (\n",
    "        \"/kaggle/input/um-game-playing-strength-of-mcts-variants/sample_submission.csv\"\n",
    "    )\n",
    "\n",
    "    # 実験関連\n",
    "    target = [\"utility_agent1\"]\n",
    "    n_splits = 5\n",
    "\n",
    "    cat_cols = [\n",
    "        \"GameRulesetName\",\n",
    "        \"agent1_param1\",\n",
    "        \"agent1_param2\",\n",
    "        \"agent1_param3\",\n",
    "        \"agent1_param4\",\n",
    "        \"agent2_param1\",\n",
    "        \"agent2_param2\",\n",
    "        \"agent2_param3\",\n",
    "        \"agent2_param4\",\n",
    "    ]\n",
    "\n",
    "    drop_cols = [\n",
    "        \"Id\",\n",
    "        \"EnglishRules\",\n",
    "        \"LudRules\",\n",
    "        \"utility_agent1\",\n",
    "        \"num_wins_agent1\",\n",
    "        \"num_draws_agent1\",\n",
    "        \"num_losses_agent1\",\n",
    "    ]\n",
    "\n",
    "    # LightGBM\n",
    "    objective = \"regression\"\n",
    "    metric = \"rmse\"\n",
    "    learning_rate = 0.1\n",
    "    n_estimators = 10000\n",
    "    stopping_rounds = 20\n",
    "    log_evaluation = 100\n",
    "\n",
    "\n",
    "# CFGクラスのインスタンスを作成\n",
    "config = CFG()"
   ]
  }
 ],
 "metadata": {
  "kernelspec": {
   "display_name": "venv01",
   "language": "python",
   "name": "python3"
  },
  "language_info": {
   "codemirror_mode": {
    "name": "ipython",
    "version": 3
   },
   "file_extension": ".py",
   "mimetype": "text/x-python",
   "name": "python",
   "nbconvert_exporter": "python",
   "pygments_lexer": "ipython3",
   "version": "3.11.9"
  }
 },
 "nbformat": 4,
 "nbformat_minor": 5
}
