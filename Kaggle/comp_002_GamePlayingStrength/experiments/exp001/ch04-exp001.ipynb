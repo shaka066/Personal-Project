{
 "cells": [
  {
   "cell_type": "code",
   "execution_count": 1,
   "id": "82434486",
   "metadata": {
    "_cell_guid": "b1076dfc-b9ad-4769-8c92-a6c4dae69d19",
    "_uuid": "8f2839f25d086af736a60e9eeb907d3b93b6e0e5",
    "execution": {
     "iopub.execute_input": "2025-02-27T10:45:32.720927Z",
     "iopub.status.busy": "2025-02-27T10:45:32.720414Z",
     "iopub.status.idle": "2025-02-27T10:45:41.000003Z",
     "shell.execute_reply": "2025-02-27T10:45:40.998865Z"
    },
    "papermill": {
     "duration": 8.289038,
     "end_time": "2025-02-27T10:45:41.002196",
     "exception": false,
     "start_time": "2025-02-27T10:45:32.713158",
     "status": "completed"
    },
    "tags": []
   },
   "outputs": [],
   "source": [
    "import os\n",
    "import random\n",
    "import warnings\n",
    "\n",
    "import numpy as np\n",
    "import pandas as pd\n",
    "import matplotlib.pyplot as plt\n",
    "import seaborn as sns\n",
    "import lightgbm as lgb\n",
    "from sklearn.metrics import mean_squared_error\n",
    "from sklearn.model_selection import StratifiedGroupKFold\n",
    "from tqdm.auto import tqdm\n",
    "\n",
    "import wandb\n",
    "from wandb.integration.lightgbm import log_summary, wandb_callback\n",
    "\n",
    "from kaggle_secrets import UserSecretsClient\n",
    "\n",
    "plt.style.use(\"ggplot\")\n",
    "warnings.filterwarnings(\"ignore\")"
   ]
  },
  {
   "cell_type": "code",
   "execution_count": 2,
   "id": "c4bb46f5",
   "metadata": {
    "execution": {
     "iopub.execute_input": "2025-02-27T10:45:41.014590Z",
     "iopub.status.busy": "2025-02-27T10:45:41.014207Z",
     "iopub.status.idle": "2025-02-27T10:45:42.547783Z",
     "shell.execute_reply": "2025-02-27T10:45:42.546745Z"
    },
    "papermill": {
     "duration": 1.541741,
     "end_time": "2025-02-27T10:45:42.549696",
     "exception": false,
     "start_time": "2025-02-27T10:45:41.007955",
     "status": "completed"
    },
    "tags": []
   },
   "outputs": [
    {
     "name": "stderr",
     "output_type": "stream",
     "text": [
      "\u001b[34m\u001b[1mwandb\u001b[0m: Using wandb-core as the SDK backend.  Please refer to https://wandb.me/wandb-core for more information.\n",
      "\u001b[34m\u001b[1mwandb\u001b[0m: Currently logged in as: \u001b[33mnori0724\u001b[0m. Use \u001b[1m`wandb login --relogin`\u001b[0m to force relogin\n",
      "\u001b[34m\u001b[1mwandb\u001b[0m: \u001b[33mWARNING\u001b[0m If you're specifying your api key in code, ensure this code is not shared publicly.\n",
      "\u001b[34m\u001b[1mwandb\u001b[0m: \u001b[33mWARNING\u001b[0m Consider setting the WANDB_API_KEY environment variable, or running `wandb login` from the command line.\n",
      "\u001b[34m\u001b[1mwandb\u001b[0m: Appending key for api.wandb.ai to your netrc file: /root/.netrc\n"
     ]
    },
    {
     "data": {
      "text/plain": [
       "True"
      ]
     },
     "execution_count": 2,
     "metadata": {},
     "output_type": "execute_result"
    }
   ],
   "source": [
    "# WandBへのログイン\n",
    "# APIキーはlink (https://wandb.ai/authorize)より取得可能\n",
    "user_secrets = UserSecretsClient()\n",
    "secret_value_0 = user_secrets.get_secret(\"wandb_api_key\")\n",
    "\n",
    "wandb.login(key=secret_value_0)"
   ]
  },
  {
   "cell_type": "code",
   "execution_count": 3,
   "id": "49f33c23",
   "metadata": {
    "execution": {
     "iopub.execute_input": "2025-02-27T10:45:42.562477Z",
     "iopub.status.busy": "2025-02-27T10:45:42.562096Z",
     "iopub.status.idle": "2025-02-27T10:45:42.568559Z",
     "shell.execute_reply": "2025-02-27T10:45:42.567364Z"
    },
    "papermill": {
     "duration": 0.01493,
     "end_time": "2025-02-27T10:45:42.570366",
     "exception": false,
     "start_time": "2025-02-27T10:45:42.555436",
     "status": "completed"
    },
    "tags": []
   },
   "outputs": [],
   "source": [
    "class CFG:\n",
    "    # WandB\n",
    "    experiment_name = \"exp001\"\n",
    "    project = \"um-game-playing-strength-of-mcts-variants\"\n",
    "\n",
    "    # Setting\n",
    "    seed = 42\n",
    "    train_path = \"/kaggle/input/um-game-playing-strength-of-mcts-variants/train.csv\"\n",
    "    test_path = \"/kaggle/input/um-game-playing-strength-of-mcts-variants/test.csv\"\n",
    "    submission_path = (\n",
    "        \"/kaggle/input/um-game-playing-strength-of-mcts-variants/sample_submission.csv\"\n",
    "    )\n",
    "\n",
    "    # 実験関連\n",
    "    target = [\"utility_agent1\"]\n",
    "    n_splits = 5\n",
    "\n",
    "    cat_cols = [\n",
    "        \"GameRulesetName\",\n",
    "        \"agent1_param1\",\n",
    "        \"agent1_param2\",\n",
    "        \"agent1_param3\",\n",
    "        \"agent1_param4\",\n",
    "        \"agent2_param1\",\n",
    "        \"agent2_param2\",\n",
    "        \"agent2_param3\",\n",
    "        \"agent2_param4\",\n",
    "    ]\n",
    "\n",
    "    drop_cols = [\n",
    "        \"Id\",\n",
    "        \"EnglishRules\",\n",
    "        \"LudRules\",\n",
    "        \"utility_agent1\",\n",
    "        \"num_wins_agent1\",\n",
    "        \"num_draws_agent1\",\n",
    "        \"num_losses_agent1\",\n",
    "    ]\n",
    "\n",
    "    # LightGBM\n",
    "    objective = \"regression\"\n",
    "    metric = \"rmse\"\n",
    "    learning_rate = 0.1\n",
    "    n_estimators = 10000\n",
    "    stopping_rounds = 20\n",
    "    log_evaluation = 100\n",
    "\n",
    "\n",
    "# CFGクラスのインスタンスを作成\n",
    "config = CFG()"
   ]
  },
  {
   "cell_type": "code",
   "execution_count": 4,
   "id": "1d2937d0",
   "metadata": {
    "execution": {
     "iopub.execute_input": "2025-02-27T10:45:42.583537Z",
     "iopub.status.busy": "2025-02-27T10:45:42.583137Z",
     "iopub.status.idle": "2025-02-27T10:45:42.588010Z",
     "shell.execute_reply": "2025-02-27T10:45:42.586984Z"
    },
    "papermill": {
     "duration": 0.013537,
     "end_time": "2025-02-27T10:45:42.589737",
     "exception": false,
     "start_time": "2025-02-27T10:45:42.576200",
     "status": "completed"
    },
    "tags": []
   },
   "outputs": [],
   "source": [
    "# シード固定\n",
    "def seed_everything(seed: int):\n",
    "    random.seed(seed)\n",
    "    os.environ[\"PYTHONHASHSEED\"] = str(seed)\n",
    "    np.random.seed(seed)\n",
    "seed_everything(config.seed)"
   ]
  },
  {
   "cell_type": "code",
   "execution_count": 5,
   "id": "a47410c8",
   "metadata": {
    "execution": {
     "iopub.execute_input": "2025-02-27T10:45:42.602296Z",
     "iopub.status.busy": "2025-02-27T10:45:42.601905Z",
     "iopub.status.idle": "2025-02-27T10:45:42.607015Z",
     "shell.execute_reply": "2025-02-27T10:45:42.605818Z"
    },
    "papermill": {
     "duration": 0.013685,
     "end_time": "2025-02-27T10:45:42.609158",
     "exception": false,
     "start_time": "2025-02-27T10:45:42.595473",
     "status": "completed"
    },
    "tags": []
   },
   "outputs": [],
   "source": [
    "# クラスの属性を辞書に変換する関数\n",
    "def class_to_dict(obj):\n",
    "    return {k: getattr(obj, k) for k in dir(obj) if not k.startswith('__') and not callable(getattr(obj, k))}"
   ]
  },
  {
   "cell_type": "code",
   "execution_count": 6,
   "id": "c737ca3a",
   "metadata": {
    "execution": {
     "iopub.execute_input": "2025-02-27T10:45:42.621995Z",
     "iopub.status.busy": "2025-02-27T10:45:42.621625Z",
     "iopub.status.idle": "2025-02-27T10:45:42.628237Z",
     "shell.execute_reply": "2025-02-27T10:45:42.627088Z"
    },
    "papermill": {
     "duration": 0.015109,
     "end_time": "2025-02-27T10:45:42.629902",
     "exception": false,
     "start_time": "2025-02-27T10:45:42.614793",
     "status": "completed"
    },
    "tags": []
   },
   "outputs": [
    {
     "data": {
      "text/plain": [
       "{'cat_cols': ['GameRulesetName',\n",
       "  'agent1_param1',\n",
       "  'agent1_param2',\n",
       "  'agent1_param3',\n",
       "  'agent1_param4',\n",
       "  'agent2_param1',\n",
       "  'agent2_param2',\n",
       "  'agent2_param3',\n",
       "  'agent2_param4'],\n",
       " 'drop_cols': ['Id',\n",
       "  'EnglishRules',\n",
       "  'LudRules',\n",
       "  'utility_agent1',\n",
       "  'num_wins_agent1',\n",
       "  'num_draws_agent1',\n",
       "  'num_losses_agent1'],\n",
       " 'experiment_name': 'exp001',\n",
       " 'learning_rate': 0.1,\n",
       " 'log_evaluation': 100,\n",
       " 'metric': 'rmse',\n",
       " 'n_estimators': 10000,\n",
       " 'n_splits': 5,\n",
       " 'objective': 'regression',\n",
       " 'project': 'um-game-playing-strength-of-mcts-variants',\n",
       " 'seed': 42,\n",
       " 'stopping_rounds': 20,\n",
       " 'submission_path': '/kaggle/input/um-game-playing-strength-of-mcts-variants/sample_submission.csv',\n",
       " 'target': ['utility_agent1'],\n",
       " 'test_path': '/kaggle/input/um-game-playing-strength-of-mcts-variants/test.csv',\n",
       " 'train_path': '/kaggle/input/um-game-playing-strength-of-mcts-variants/train.csv'}"
      ]
     },
     "execution_count": 6,
     "metadata": {},
     "output_type": "execute_result"
    }
   ],
   "source": [
    "class_to_dict(config)"
   ]
  },
  {
   "cell_type": "code",
   "execution_count": 7,
   "id": "a7a3703b",
   "metadata": {
    "execution": {
     "iopub.execute_input": "2025-02-27T10:45:42.643287Z",
     "iopub.status.busy": "2025-02-27T10:45:42.642923Z",
     "iopub.status.idle": "2025-02-27T10:46:18.735757Z",
     "shell.execute_reply": "2025-02-27T10:46:18.734688Z"
    },
    "papermill": {
     "duration": 36.101466,
     "end_time": "2025-02-27T10:46:18.737830",
     "exception": false,
     "start_time": "2025-02-27T10:45:42.636364",
     "status": "completed"
    },
    "tags": []
   },
   "outputs": [],
   "source": [
    "df_train = pd.read_csv(config.train_path)\n",
    "df_test = pd.read_csv(config.test_path)"
   ]
  },
  {
   "cell_type": "code",
   "execution_count": 8,
   "id": "50a43ec9",
   "metadata": {
    "execution": {
     "iopub.execute_input": "2025-02-27T10:46:18.750656Z",
     "iopub.status.busy": "2025-02-27T10:46:18.750225Z",
     "iopub.status.idle": "2025-02-27T10:46:18.756155Z",
     "shell.execute_reply": "2025-02-27T10:46:18.755258Z"
    },
    "papermill": {
     "duration": 0.013955,
     "end_time": "2025-02-27T10:46:18.757757",
     "exception": false,
     "start_time": "2025-02-27T10:46:18.743802",
     "status": "completed"
    },
    "tags": []
   },
   "outputs": [
    {
     "data": {
      "text/plain": [
       "((233234, 814), (3, 810))"
      ]
     },
     "execution_count": 8,
     "metadata": {},
     "output_type": "execute_result"
    }
   ],
   "source": [
    "df_train.shape, df_test.shape"
   ]
  },
  {
   "cell_type": "code",
   "execution_count": 9,
   "id": "c1f89923",
   "metadata": {
    "execution": {
     "iopub.execute_input": "2025-02-27T10:46:18.770845Z",
     "iopub.status.busy": "2025-02-27T10:46:18.770430Z",
     "iopub.status.idle": "2025-02-27T10:46:19.532418Z",
     "shell.execute_reply": "2025-02-27T10:46:19.531227Z"
    },
    "papermill": {
     "duration": 0.770496,
     "end_time": "2025-02-27T10:46:19.534144",
     "exception": false,
     "start_time": "2025-02-27T10:46:18.763648",
     "status": "completed"
    },
    "tags": []
   },
   "outputs": [
    {
     "data": {
      "text/plain": [
       "<Axes: ylabel='Frequency'>"
      ]
     },
     "execution_count": 9,
     "metadata": {},
     "output_type": "execute_result"
    },
    {
     "data": {
      "image/png": "[encoded data removed]",
      "text/plain": [
       "<Figure size 640x480 with 1 Axes>"
      ]
     },
     "metadata": {},
     "output_type": "display_data"
    }
   ],
   "source": [
    "#ターゲットの分布を確認\n",
    "df_train[config.target].plot.hist(bins=100)"
   ]
  },
  {
   "cell_type": "markdown",
   "id": "cd767898",
   "metadata": {
    "papermill": {
     "duration": 0.006533,
     "end_time": "2025-02-27T10:46:19.546809",
     "exception": false,
     "start_time": "2025-02-27T10:46:19.540276",
     "status": "completed"
    },
    "tags": []
   },
   "source": [
    "前処理"
   ]
  },
  {
   "cell_type": "code",
   "execution_count": 10,
   "id": "ae2210a1",
   "metadata": {
    "execution": {
     "iopub.execute_input": "2025-02-27T10:46:19.560450Z",
     "iopub.status.busy": "2025-02-27T10:46:19.560117Z",
     "iopub.status.idle": "2025-02-27T10:46:19.565955Z",
     "shell.execute_reply": "2025-02-27T10:46:19.564940Z"
    },
    "papermill": {
     "duration": 0.014742,
     "end_time": "2025-02-27T10:46:19.567718",
     "exception": false,
     "start_time": "2025-02-27T10:46:19.552976",
     "status": "completed"
    },
    "tags": []
   },
   "outputs": [],
   "source": [
    "def add_agent_type_cols(df):\n",
    "    for col in [\"agent1\", \"agent2\"]:\n",
    "        agent_add_cols = df[col].str.split(\"-\", expand=True)\n",
    "        agent_add_cols.columns = [\n",
    "            f\"{col}_param0\",\n",
    "            f\"{col}_param1\",\n",
    "            f\"{col}_param2\",\n",
    "            f\"{col}_param3\",\n",
    "            f\"{col}_param4\",\n",
    "        ]\n",
    "        agent_add_cols = agent_add_cols.drop(\n",
    "            [f\"{col}_param0\"], axis=1\n",
    "        )  # 1つ目はMCTSで固定のため削除\n",
    "\n",
    "        df = pd.concat([df, agent_add_cols], axis=1)\n",
    "        df = df.drop([col], axis=1)\n",
    "\n",
    "    return df"
   ]
  },
  {
   "cell_type": "code",
   "execution_count": 11,
   "id": "3de0b33d",
   "metadata": {
    "execution": {
     "iopub.execute_input": "2025-02-27T10:46:19.581857Z",
     "iopub.status.busy": "2025-02-27T10:46:19.581432Z",
     "iopub.status.idle": "2025-02-27T10:46:23.702252Z",
     "shell.execute_reply": "2025-02-27T10:46:23.701122Z"
    },
    "papermill": {
     "duration": 4.130206,
     "end_time": "2025-02-27T10:46:23.704391",
     "exception": false,
     "start_time": "2025-02-27T10:46:19.574185",
     "status": "completed"
    },
    "tags": []
   },
   "outputs": [],
   "source": [
    "df_train = add_agent_type_cols(df_train)\n",
    "df_test = add_agent_type_cols(df_test)"
   ]
  },
  {
   "cell_type": "code",
   "execution_count": 12,
   "id": "88e1dcbf",
   "metadata": {
    "execution": {
     "iopub.execute_input": "2025-02-27T10:46:23.718748Z",
     "iopub.status.busy": "2025-02-27T10:46:23.718347Z",
     "iopub.status.idle": "2025-02-27T10:46:25.511588Z",
     "shell.execute_reply": "2025-02-27T10:46:25.510588Z"
    },
    "papermill": {
     "duration": 1.802323,
     "end_time": "2025-02-27T10:46:25.513448",
     "exception": false,
     "start_time": "2025-02-27T10:46:23.711125",
     "status": "completed"
    },
    "tags": []
   },
   "outputs": [],
   "source": [
    "one_cols = []\n",
    "for c in df_train.columns:\n",
    "    cnum = df_train[c].value_counts().shape[0]\n",
    "\n",
    "    if cnum == 1:\n",
    "        one_cols.append(c)"
   ]
  },
  {
   "cell_type": "code",
   "execution_count": 13,
   "id": "e929dfcf",
   "metadata": {
    "execution": {
     "iopub.execute_input": "2025-02-27T10:46:25.527579Z",
     "iopub.status.busy": "2025-02-27T10:46:25.527209Z",
     "iopub.status.idle": "2025-02-27T10:46:25.941932Z",
     "shell.execute_reply": "2025-02-27T10:46:25.941035Z"
    },
    "papermill": {
     "duration": 0.423867,
     "end_time": "2025-02-27T10:46:25.943857",
     "exception": false,
     "start_time": "2025-02-27T10:46:25.519990",
     "status": "completed"
    },
    "tags": []
   },
   "outputs": [],
   "source": [
    "train_cols = df_train.drop(\n",
    "    config.target + config.drop_cols + one_cols + [\"GameRulesetName\"], axis=1\n",
    ").columns"
   ]
  },
  {
   "cell_type": "code",
   "execution_count": 14,
   "id": "372e4b66",
   "metadata": {
    "execution": {
     "iopub.execute_input": "2025-02-27T10:46:25.958166Z",
     "iopub.status.busy": "2025-02-27T10:46:25.957787Z",
     "iopub.status.idle": "2025-02-27T10:46:25.963450Z",
     "shell.execute_reply": "2025-02-27T10:46:25.962589Z"
    },
    "papermill": {
     "duration": 0.014566,
     "end_time": "2025-02-27T10:46:25.965159",
     "exception": false,
     "start_time": "2025-02-27T10:46:25.950593",
     "status": "completed"
    },
    "tags": []
   },
   "outputs": [
    {
     "data": {
      "text/plain": [
       "614"
      ]
     },
     "execution_count": 14,
     "metadata": {},
     "output_type": "execute_result"
    }
   ],
   "source": [
    "len(train_cols)"
   ]
  },
  {
   "cell_type": "code",
   "execution_count": 15,
   "id": "1ca9767c",
   "metadata": {
    "execution": {
     "iopub.execute_input": "2025-02-27T10:46:25.979363Z",
     "iopub.status.busy": "2025-02-27T10:46:25.979020Z",
     "iopub.status.idle": "2025-02-27T10:46:26.364807Z",
     "shell.execute_reply": "2025-02-27T10:46:26.363868Z"
    },
    "papermill": {
     "duration": 0.39534,
     "end_time": "2025-02-27T10:46:26.367026",
     "exception": false,
     "start_time": "2025-02-27T10:46:25.971686",
     "status": "completed"
    },
    "tags": []
   },
   "outputs": [],
   "source": [
    "for c in config.cat_cols:\n",
    "    df_train[c] = df_train[c].astype(\"category\")\n",
    "    df_test[c] = df_test[c].astype(\"category\")"
   ]
  },
  {
   "cell_type": "code",
   "execution_count": 16,
   "id": "6976bd73",
   "metadata": {
    "execution": {
     "iopub.execute_input": "2025-02-27T10:46:26.382026Z",
     "iopub.status.busy": "2025-02-27T10:46:26.381604Z",
     "iopub.status.idle": "2025-02-27T10:46:27.487029Z",
     "shell.execute_reply": "2025-02-27T10:46:27.485806Z"
    },
    "papermill": {
     "duration": 1.114863,
     "end_time": "2025-02-27T10:46:27.488967",
     "exception": false,
     "start_time": "2025-02-27T10:46:26.374104",
     "status": "completed"
    },
    "tags": []
   },
   "outputs": [],
   "source": [
    "# StratifiedGroupKFold\n",
    "sgkf = StratifiedGroupKFold(n_splits=config.n_splits)\n",
    "\n",
    "# 各サンプルにfold番号を割り当て\n",
    "for fold, (train_idx, val_idx) in enumerate(\n",
    "    sgkf.split(\n",
    "        df_train, round(df_train[config.target] * 15), df_train[\"GameRulesetName\"]\n",
    "    )\n",
    "):\n",
    "    df_train.loc[val_idx, \"fold\"] = fold"
   ]
  },
  {
   "cell_type": "code",
   "execution_count": 17,
   "id": "6ec7decf",
   "metadata": {
    "execution": {
     "iopub.execute_input": "2025-02-27T10:46:27.503149Z",
     "iopub.status.busy": "2025-02-27T10:46:27.502738Z",
     "iopub.status.idle": "2025-02-27T10:46:27.509510Z",
     "shell.execute_reply": "2025-02-27T10:46:27.508281Z"
    },
    "papermill": {
     "duration": 0.015785,
     "end_time": "2025-02-27T10:46:27.511117",
     "exception": false,
     "start_time": "2025-02-27T10:46:27.495332",
     "status": "completed"
    },
    "tags": []
   },
   "outputs": [
    {
     "data": {
      "text/plain": [
       "{'objective': 'regression',\n",
       " 'learning_rate': 0.1,\n",
       " 'metric': 'rmse',\n",
       " 'verbosity': -1,\n",
       " 'seed': 42}"
      ]
     },
     "execution_count": 17,
     "metadata": {},
     "output_type": "execute_result"
    }
   ],
   "source": [
    "params = {\n",
    "    \"objective\": config.objective,\n",
    "    \"learning_rate\": config.learning_rate,\n",
    "    \"metric\": config.metric,\n",
    "    \"verbosity\": -1,\n",
    "    \"seed\": config.seed,\n",
    "}\n",
    "params"
   ]
  },
  {
   "cell_type": "code",
   "execution_count": 18,
   "id": "3b2846e4",
   "metadata": {
    "execution": {
     "iopub.execute_input": "2025-02-27T10:46:27.525674Z",
     "iopub.status.busy": "2025-02-27T10:46:27.525264Z",
     "iopub.status.idle": "2025-02-27T10:50:03.365888Z",
     "shell.execute_reply": "2025-02-27T10:50:03.364793Z"
    },
    "papermill": {
     "duration": 215.84953,
     "end_time": "2025-02-27T10:50:03.367463",
     "exception": false,
     "start_time": "2025-02-27T10:46:27.517933",
     "status": "completed"
    },
    "tags": []
   },
   "outputs": [
    {
     "data": {
      "application/vnd.jupyter.widget-view+json": {
       "model_id": "c3114a71db81415eb57985031c8666c4",
       "version_major": 2,
       "version_minor": 0
      },
      "text/plain": [
       "  0%|          | 0/5 [00:00<?, ?it/s]"
      ]
     },
     "metadata": {},
     "output_type": "display_data"
    },
    {
     "name": "stderr",
     "output_type": "stream",
     "text": [
      "\u001b[34m\u001b[1mwandb\u001b[0m: Tracking run with wandb version 0.19.1\n",
      "\u001b[34m\u001b[1mwandb\u001b[0m: Run data is saved locally in \u001b[35m\u001b[1m/kaggle/working/wandb/run-20250227_104627-i8lh48ly\u001b[0m\n",
      "\u001b[34m\u001b[1mwandb\u001b[0m: Run \u001b[1m`wandb offline`\u001b[0m to turn off syncing.\n",
      "\u001b[34m\u001b[1mwandb\u001b[0m: Syncing run \u001b[33mfold0\u001b[0m\n",
      "\u001b[34m\u001b[1mwandb\u001b[0m: ⭐️ View project at \u001b[34m\u001b[4mhttps://wandb.ai/nori0724/um-game-playing-strength-of-mcts-variants\u001b[0m\n",
      "\u001b[34m\u001b[1mwandb\u001b[0m: 🚀 View run at \u001b[34m\u001b[4mhttps://wandb.ai/nori0724/um-game-playing-strength-of-mcts-variants/runs/i8lh48ly\u001b[0m\n"
     ]
    },
    {
     "name": "stdout",
     "output_type": "stream",
     "text": [
      "Training until validation scores don't improve for 20 rounds\n",
      "[100]\ttraining's rmse: 0.358534\tvalid_1's rmse: 0.46669\n",
      "[200]\ttraining's rmse: 0.326312\tvalid_1's rmse: 0.459489\n",
      "[300]\ttraining's rmse: 0.304924\tvalid_1's rmse: 0.453864\n",
      "[400]\ttraining's rmse: 0.289433\tvalid_1's rmse: 0.449981\n",
      "[500]\ttraining's rmse: 0.279854\tvalid_1's rmse: 0.447394\n",
      "Early stopping, best iteration is:\n",
      "[527]\ttraining's rmse: 0.277801\tvalid_1's rmse: 0.446973\n",
      "Fold 0 _rmse: 0.44697\n"
     ]
    },
    {
     "name": "stderr",
     "output_type": "stream",
     "text": [
      "\u001b[34m\u001b[1mwandb\u001b[0m: uploading artifact run-i8lh48ly-FeatureImportance_table; uploading artifact model_i8lh48ly\n",
      "\u001b[34m\u001b[1mwandb\u001b[0m:                                                                                \n",
      "\u001b[34m\u001b[1mwandb\u001b[0m: \n",
      "\u001b[34m\u001b[1mwandb\u001b[0m: Run history:\n",
      "\u001b[34m\u001b[1mwandb\u001b[0m:   Fold_0_rmse ▁\n",
      "\u001b[34m\u001b[1mwandb\u001b[0m:     iteration ▁▁▁▁▁▂▂▂▂▂▂▃▃▃▃▃▃▃▄▄▄▄▄▄▅▅▅▅▅▆▆▆▆▇▇▇▇▇▇█\n",
      "\u001b[34m\u001b[1mwandb\u001b[0m: training_rmse █▆▅▅▄▄▄▃▃▃▃▃▃▃▂▂▂▂▂▂▂▂▂▂▂▂▁▁▁▁▁▁▁▁▁▁▁▁▁▁\n",
      "\u001b[34m\u001b[1mwandb\u001b[0m:  valid_1_rmse █▆▆▆▅▅▅▄▄▄▄▄▄▄▄▄▄▃▃▃▃▂▂▂▂▂▂▂▂▂▂▂▁▁▁▁▁▁▁▁\n",
      "\u001b[34m\u001b[1mwandb\u001b[0m: \n",
      "\u001b[34m\u001b[1mwandb\u001b[0m: Run summary:\n",
      "\u001b[34m\u001b[1mwandb\u001b[0m:    Fold_0_rmse 0.44697\n",
      "\u001b[34m\u001b[1mwandb\u001b[0m: best_iteration 527\n",
      "\u001b[34m\u001b[1mwandb\u001b[0m:      iteration 546\n",
      "\u001b[34m\u001b[1mwandb\u001b[0m: \n",
      "\u001b[34m\u001b[1mwandb\u001b[0m: 🚀 View run \u001b[33mfold0\u001b[0m at: \u001b[34m\u001b[4mhttps://wandb.ai/nori0724/um-game-playing-strength-of-mcts-variants/runs/i8lh48ly\u001b[0m\n",
      "\u001b[34m\u001b[1mwandb\u001b[0m: ⭐️ View project at: \u001b[34m\u001b[4mhttps://wandb.ai/nori0724/um-game-playing-strength-of-mcts-variants\u001b[0m\n",
      "\u001b[34m\u001b[1mwandb\u001b[0m: Synced 5 W&B file(s), 0 media file(s), 4 artifact file(s) and 1 other file(s)\n",
      "\u001b[34m\u001b[1mwandb\u001b[0m: Find logs at: \u001b[35m\u001b[1m./wandb/run-20250227_104627-i8lh48ly/logs\u001b[0m\n",
      "\u001b[34m\u001b[1mwandb\u001b[0m: Tracking run with wandb version 0.19.1\n",
      "\u001b[34m\u001b[1mwandb\u001b[0m: Run data is saved locally in \u001b[35m\u001b[1m/kaggle/working/wandb/run-20250227_104707-p8pwf5me\u001b[0m\n",
      "\u001b[34m\u001b[1mwandb\u001b[0m: Run \u001b[1m`wandb offline`\u001b[0m to turn off syncing.\n",
      "\u001b[34m\u001b[1mwandb\u001b[0m: Syncing run \u001b[33mfold1\u001b[0m\n",
      "\u001b[34m\u001b[1mwandb\u001b[0m: ⭐️ View project at \u001b[34m\u001b[4mhttps://wandb.ai/nori0724/um-game-playing-strength-of-mcts-variants\u001b[0m\n",
      "\u001b[34m\u001b[1mwandb\u001b[0m: 🚀 View run at \u001b[34m\u001b[4mhttps://wandb.ai/nori0724/um-game-playing-strength-of-mcts-variants/runs/p8pwf5me\u001b[0m\n"
     ]
    },
    {
     "name": "stdout",
     "output_type": "stream",
     "text": [
      "Training until validation scores don't improve for 20 rounds\n",
      "[100]\ttraining's rmse: 0.359177\tvalid_1's rmse: 0.474143\n",
      "[200]\ttraining's rmse: 0.326145\tvalid_1's rmse: 0.467905\n",
      "[300]\ttraining's rmse: 0.304819\tvalid_1's rmse: 0.464186\n",
      "[400]\ttraining's rmse: 0.292036\tvalid_1's rmse: 0.461668\n",
      "[500]\ttraining's rmse: 0.280989\tvalid_1's rmse: 0.459294\n",
      "[600]\ttraining's rmse: 0.273016\tvalid_1's rmse: 0.458053\n",
      "Early stopping, best iteration is:\n",
      "[583]\ttraining's rmse: 0.273991\tvalid_1's rmse: 0.457987\n",
      "Fold 1 _rmse: 0.45799\n"
     ]
    },
    {
     "name": "stderr",
     "output_type": "stream",
     "text": [
      "\u001b[34m\u001b[1mwandb\u001b[0m: uploading artifact run-p8pwf5me-FeatureImportance_table; uploading media/table/Feature Importance_table_604_4697b7a39425697fad01.table.json; uploading artifact model_p8pwf5me; uploading wandb-summary.json; uploading config.yaml (+ 1 more)\n",
      "\u001b[34m\u001b[1mwandb\u001b[0m: uploading artifact model_p8pwf5me\n",
      "\u001b[34m\u001b[1mwandb\u001b[0m:                                                                                \n",
      "\u001b[34m\u001b[1mwandb\u001b[0m: \n",
      "\u001b[34m\u001b[1mwandb\u001b[0m: Run history:\n",
      "\u001b[34m\u001b[1mwandb\u001b[0m:   Fold_1_rmse ▁\n",
      "\u001b[34m\u001b[1mwandb\u001b[0m:     iteration ▁▁▁▁▁▂▂▃▃▃▃▄▄▄▄▄▄▅▅▅▅▅▅▅▅▆▆▆▆▆▆▇▇▇▇▇████\n",
      "\u001b[34m\u001b[1mwandb\u001b[0m: training_rmse ██▇▇▆▅▅▄▄▄▃▃▃▃▃▂▂▂▂▂▂▂▂▂▂▁▁▁▁▁▁▁▁▁▁▁▁▁▁▁\n",
      "\u001b[34m\u001b[1mwandb\u001b[0m:  valid_1_rmse █▇▆▆▄▃▂▂▂▂▂▂▂▂▂▂▁▁▁▁▁▁▁▁▁▁▁▁▁▁▁▁▁▁▁▁▁▁▁▁\n",
      "\u001b[34m\u001b[1mwandb\u001b[0m: \n",
      "\u001b[34m\u001b[1mwandb\u001b[0m: Run summary:\n",
      "\u001b[34m\u001b[1mwandb\u001b[0m:    Fold_1_rmse 0.45799\n",
      "\u001b[34m\u001b[1mwandb\u001b[0m: best_iteration 583\n",
      "\u001b[34m\u001b[1mwandb\u001b[0m:      iteration 602\n",
      "\u001b[34m\u001b[1mwandb\u001b[0m: \n",
      "\u001b[34m\u001b[1mwandb\u001b[0m: 🚀 View run \u001b[33mfold1\u001b[0m at: \u001b[34m\u001b[4mhttps://wandb.ai/nori0724/um-game-playing-strength-of-mcts-variants/runs/p8pwf5me\u001b[0m\n",
      "\u001b[34m\u001b[1mwandb\u001b[0m: ⭐️ View project at: \u001b[34m\u001b[4mhttps://wandb.ai/nori0724/um-game-playing-strength-of-mcts-variants\u001b[0m\n",
      "\u001b[34m\u001b[1mwandb\u001b[0m: Synced 5 W&B file(s), 0 media file(s), 4 artifact file(s) and 1 other file(s)\n",
      "\u001b[34m\u001b[1mwandb\u001b[0m: Find logs at: \u001b[35m\u001b[1m./wandb/run-20250227_104707-p8pwf5me/logs\u001b[0m\n",
      "\u001b[34m\u001b[1mwandb\u001b[0m: Tracking run with wandb version 0.19.1\n",
      "\u001b[34m\u001b[1mwandb\u001b[0m: Run data is saved locally in \u001b[35m\u001b[1m/kaggle/working/wandb/run-20250227_104748-1a0j8bg5\u001b[0m\n",
      "\u001b[34m\u001b[1mwandb\u001b[0m: Run \u001b[1m`wandb offline`\u001b[0m to turn off syncing.\n",
      "\u001b[34m\u001b[1mwandb\u001b[0m: Syncing run \u001b[33mfold2\u001b[0m\n",
      "\u001b[34m\u001b[1mwandb\u001b[0m: ⭐️ View project at \u001b[34m\u001b[4mhttps://wandb.ai/nori0724/um-game-playing-strength-of-mcts-variants\u001b[0m\n",
      "\u001b[34m\u001b[1mwandb\u001b[0m: 🚀 View run at \u001b[34m\u001b[4mhttps://wandb.ai/nori0724/um-game-playing-strength-of-mcts-variants/runs/1a0j8bg5\u001b[0m\n"
     ]
    },
    {
     "name": "stdout",
     "output_type": "stream",
     "text": [
      "Training until validation scores don't improve for 20 rounds\n",
      "[100]\ttraining's rmse: 0.358436\tvalid_1's rmse: 0.453638\n",
      "[200]\ttraining's rmse: 0.326436\tvalid_1's rmse: 0.445616\n",
      "[300]\ttraining's rmse: 0.306888\tvalid_1's rmse: 0.441018\n",
      "[400]\ttraining's rmse: 0.292294\tvalid_1's rmse: 0.437959\n",
      "[500]\ttraining's rmse: 0.281381\tvalid_1's rmse: 0.43578\n",
      "[600]\ttraining's rmse: 0.272397\tvalid_1's rmse: 0.434092\n",
      "Early stopping, best iteration is:\n",
      "[648]\ttraining's rmse: 0.268163\tvalid_1's rmse: 0.433334\n",
      "Fold 2 _rmse: 0.43333\n"
     ]
    },
    {
     "name": "stderr",
     "output_type": "stream",
     "text": [
      "\u001b[34m\u001b[1mwandb\u001b[0m: uploading artifact run-1a0j8bg5-FeatureImportance_table; uploading artifact model_1a0j8bg5; uploading wandb-summary.json; uploading config.yaml; uploading output.log\n",
      "\u001b[34m\u001b[1mwandb\u001b[0m: uploading artifact model_1a0j8bg5\n",
      "\u001b[34m\u001b[1mwandb\u001b[0m:                                                                                \n",
      "\u001b[34m\u001b[1mwandb\u001b[0m: \n",
      "\u001b[34m\u001b[1mwandb\u001b[0m: Run history:\n",
      "\u001b[34m\u001b[1mwandb\u001b[0m:   Fold_2_rmse ▁\n",
      "\u001b[34m\u001b[1mwandb\u001b[0m:     iteration ▁▁▂▂▂▂▂▂▂▃▃▃▃▃▃▄▄▄▄▄▅▅▅▅▅▅▆▆▆▆▆▆▇▇▇█████\n",
      "\u001b[34m\u001b[1mwandb\u001b[0m: training_rmse ██▆▆▆▅▅▅▅▄▃▃▃▃▃▃▂▂▂▂▂▂▂▂▂▂▂▂▂▂▁▁▁▁▁▁▁▁▁▁\n",
      "\u001b[34m\u001b[1mwandb\u001b[0m:  valid_1_rmse █▇▃▂▂▂▂▂▂▂▁▁▁▁▁▁▁▁▁▁▁▁▁▁▁▁▁▁▁▁▁▁▁▁▁▁▁▁▁▁\n",
      "\u001b[34m\u001b[1mwandb\u001b[0m: \n",
      "\u001b[34m\u001b[1mwandb\u001b[0m: Run summary:\n",
      "\u001b[34m\u001b[1mwandb\u001b[0m:    Fold_2_rmse 0.43333\n",
      "\u001b[34m\u001b[1mwandb\u001b[0m: best_iteration 648\n",
      "\u001b[34m\u001b[1mwandb\u001b[0m:      iteration 667\n",
      "\u001b[34m\u001b[1mwandb\u001b[0m: \n",
      "\u001b[34m\u001b[1mwandb\u001b[0m: 🚀 View run \u001b[33mfold2\u001b[0m at: \u001b[34m\u001b[4mhttps://wandb.ai/nori0724/um-game-playing-strength-of-mcts-variants/runs/1a0j8bg5\u001b[0m\n",
      "\u001b[34m\u001b[1mwandb\u001b[0m: ⭐️ View project at: \u001b[34m\u001b[4mhttps://wandb.ai/nori0724/um-game-playing-strength-of-mcts-variants\u001b[0m\n",
      "\u001b[34m\u001b[1mwandb\u001b[0m: Synced 5 W&B file(s), 0 media file(s), 4 artifact file(s) and 1 other file(s)\n",
      "\u001b[34m\u001b[1mwandb\u001b[0m: Find logs at: \u001b[35m\u001b[1m./wandb/run-20250227_104748-1a0j8bg5/logs\u001b[0m\n",
      "\u001b[34m\u001b[1mwandb\u001b[0m: Tracking run with wandb version 0.19.1\n",
      "\u001b[34m\u001b[1mwandb\u001b[0m: Run data is saved locally in \u001b[35m\u001b[1m/kaggle/working/wandb/run-20250227_104832-brqkv8hl\u001b[0m\n",
      "\u001b[34m\u001b[1mwandb\u001b[0m: Run \u001b[1m`wandb offline`\u001b[0m to turn off syncing.\n",
      "\u001b[34m\u001b[1mwandb\u001b[0m: Syncing run \u001b[33mfold3\u001b[0m\n",
      "\u001b[34m\u001b[1mwandb\u001b[0m: ⭐️ View project at \u001b[34m\u001b[4mhttps://wandb.ai/nori0724/um-game-playing-strength-of-mcts-variants\u001b[0m\n",
      "\u001b[34m\u001b[1mwandb\u001b[0m: 🚀 View run at \u001b[34m\u001b[4mhttps://wandb.ai/nori0724/um-game-playing-strength-of-mcts-variants/runs/brqkv8hl\u001b[0m\n"
     ]
    },
    {
     "name": "stdout",
     "output_type": "stream",
     "text": [
      "Training until validation scores don't improve for 20 rounds\n",
      "[100]\ttraining's rmse: 0.363435\tvalid_1's rmse: 0.455201\n",
      "[200]\ttraining's rmse: 0.332056\tvalid_1's rmse: 0.446086\n",
      "[300]\ttraining's rmse: 0.312172\tvalid_1's rmse: 0.440017\n",
      "[400]\ttraining's rmse: 0.297457\tvalid_1's rmse: 0.436832\n",
      "[500]\ttraining's rmse: 0.28566\tvalid_1's rmse: 0.434096\n",
      "[600]\ttraining's rmse: 0.275029\tvalid_1's rmse: 0.43099\n",
      "[700]\ttraining's rmse: 0.266541\tvalid_1's rmse: 0.429778\n",
      "[800]\ttraining's rmse: 0.258851\tvalid_1's rmse: 0.428511\n",
      "Early stopping, best iteration is:\n",
      "[789]\ttraining's rmse: 0.259416\tvalid_1's rmse: 0.428361\n",
      "Fold 3 _rmse: 0.42836\n"
     ]
    },
    {
     "name": "stderr",
     "output_type": "stream",
     "text": [
      "\u001b[34m\u001b[1mwandb\u001b[0m: uploading artifact run-brqkv8hl-FeatureImportance_table; uploading artifact model_brqkv8hl; uploading wandb-summary.json; uploading config.yaml; uploading output.log\n",
      "\u001b[34m\u001b[1mwandb\u001b[0m: uploading artifact run-brqkv8hl-FeatureImportance_table; uploading artifact model_brqkv8hl\n",
      "\u001b[34m\u001b[1mwandb\u001b[0m: uploading artifact model_brqkv8hl; uploading history steps 526-810, summary, console lines 6-11\n",
      "\u001b[34m\u001b[1mwandb\u001b[0m:                                                                                \n",
      "\u001b[34m\u001b[1mwandb\u001b[0m: \n",
      "\u001b[34m\u001b[1mwandb\u001b[0m: Run history:\n",
      "\u001b[34m\u001b[1mwandb\u001b[0m:   Fold_3_rmse ▁\n",
      "\u001b[34m\u001b[1mwandb\u001b[0m:     iteration ▁▁▁▁▁▂▂▂▂▂▃▃▃▄▄▄▄▄▄▅▅▅▅▅▅▆▆▆▆▇▇▇▇▇██████\n",
      "\u001b[34m\u001b[1mwandb\u001b[0m: training_rmse ██▇▆▅▄▄▄▄▄▄▄▄▃▃▃▃▃▃▃▂▂▂▂▂▂▂▂▂▂▂▁▁▁▁▁▁▁▁▁\n",
      "\u001b[34m\u001b[1mwandb\u001b[0m:  valid_1_rmse █▅▄▄▄▃▃▃▃▃▃▃▂▂▂▂▂▂▂▂▂▂▂▂▂▂▂▁▁▁▁▁▁▁▁▁▁▁▁▁\n",
      "\u001b[34m\u001b[1mwandb\u001b[0m: \n",
      "\u001b[34m\u001b[1mwandb\u001b[0m: Run summary:\n",
      "\u001b[34m\u001b[1mwandb\u001b[0m:    Fold_3_rmse 0.42836\n",
      "\u001b[34m\u001b[1mwandb\u001b[0m: best_iteration 789\n",
      "\u001b[34m\u001b[1mwandb\u001b[0m:      iteration 808\n",
      "\u001b[34m\u001b[1mwandb\u001b[0m: \n",
      "\u001b[34m\u001b[1mwandb\u001b[0m: 🚀 View run \u001b[33mfold3\u001b[0m at: \u001b[34m\u001b[4mhttps://wandb.ai/nori0724/um-game-playing-strength-of-mcts-variants/runs/brqkv8hl\u001b[0m\n",
      "\u001b[34m\u001b[1mwandb\u001b[0m: ⭐️ View project at: \u001b[34m\u001b[4mhttps://wandb.ai/nori0724/um-game-playing-strength-of-mcts-variants\u001b[0m\n",
      "\u001b[34m\u001b[1mwandb\u001b[0m: Synced 5 W&B file(s), 0 media file(s), 4 artifact file(s) and 1 other file(s)\n",
      "\u001b[34m\u001b[1mwandb\u001b[0m: Find logs at: \u001b[35m\u001b[1m./wandb/run-20250227_104832-brqkv8hl/logs\u001b[0m\n",
      "\u001b[34m\u001b[1mwandb\u001b[0m: Tracking run with wandb version 0.19.1\n",
      "\u001b[34m\u001b[1mwandb\u001b[0m: Run data is saved locally in \u001b[35m\u001b[1m/kaggle/working/wandb/run-20250227_104921-cfi7cylx\u001b[0m\n",
      "\u001b[34m\u001b[1mwandb\u001b[0m: Run \u001b[1m`wandb offline`\u001b[0m to turn off syncing.\n",
      "\u001b[34m\u001b[1mwandb\u001b[0m: Syncing run \u001b[33mfold4\u001b[0m\n",
      "\u001b[34m\u001b[1mwandb\u001b[0m: ⭐️ View project at \u001b[34m\u001b[4mhttps://wandb.ai/nori0724/um-game-playing-strength-of-mcts-variants\u001b[0m\n",
      "\u001b[34m\u001b[1mwandb\u001b[0m: 🚀 View run at \u001b[34m\u001b[4mhttps://wandb.ai/nori0724/um-game-playing-strength-of-mcts-variants/runs/cfi7cylx\u001b[0m\n"
     ]
    },
    {
     "name": "stdout",
     "output_type": "stream",
     "text": [
      "Training until validation scores don't improve for 20 rounds\n",
      "[100]\ttraining's rmse: 0.356972\tvalid_1's rmse: 0.446606\n",
      "[200]\ttraining's rmse: 0.325619\tvalid_1's rmse: 0.43695\n",
      "[300]\ttraining's rmse: 0.306908\tvalid_1's rmse: 0.432406\n",
      "[400]\ttraining's rmse: 0.292509\tvalid_1's rmse: 0.429324\n",
      "[500]\ttraining's rmse: 0.280443\tvalid_1's rmse: 0.426489\n",
      "Early stopping, best iteration is:\n",
      "[570]\ttraining's rmse: 0.274403\tvalid_1's rmse: 0.425189\n",
      "Fold 4 _rmse: 0.42519\n"
     ]
    },
    {
     "name": "stderr",
     "output_type": "stream",
     "text": [
      "\u001b[34m\u001b[1mwandb\u001b[0m: uploading artifact run-cfi7cylx-FeatureImportance_table; uploading artifact model_cfi7cylx; uploading wandb-summary.json; uploading config.yaml; uploading output.log\n",
      "\u001b[34m\u001b[1mwandb\u001b[0m: uploading artifact run-cfi7cylx-FeatureImportance_table; uploading artifact model_cfi7cylx\n",
      "\u001b[34m\u001b[1mwandb\u001b[0m: uploading artifact model_cfi7cylx\n",
      "\u001b[34m\u001b[1mwandb\u001b[0m:                                                                                \n",
      "\u001b[34m\u001b[1mwandb\u001b[0m: \n",
      "\u001b[34m\u001b[1mwandb\u001b[0m: Run history:\n",
      "\u001b[34m\u001b[1mwandb\u001b[0m:   Fold_4_rmse ▁\n",
      "\u001b[34m\u001b[1mwandb\u001b[0m:     iteration ▁▁▁▁▁▂▂▂▂▂▂▂▃▃▃▃▄▄▄▄▅▅▅▅▅▆▆▆▆▆▆▆▇▇▇▇▇███\n",
      "\u001b[34m\u001b[1mwandb\u001b[0m: training_rmse █▆▅▄▄▄▄▄▃▃▃▃▃▃▃▂▂▂▂▂▂▂▂▂▂▂▂▂▁▁▁▁▁▁▁▁▁▁▁▁\n",
      "\u001b[34m\u001b[1mwandb\u001b[0m:  valid_1_rmse █▇▅▅▄▄▃▃▃▃▃▃▂▂▂▂▂▂▂▂▂▂▂▂▂▂▂▂▁▁▁▁▁▁▁▁▁▁▁▁\n",
      "\u001b[34m\u001b[1mwandb\u001b[0m: \n",
      "\u001b[34m\u001b[1mwandb\u001b[0m: Run summary:\n",
      "\u001b[34m\u001b[1mwandb\u001b[0m:    Fold_4_rmse 0.42519\n",
      "\u001b[34m\u001b[1mwandb\u001b[0m: best_iteration 570\n",
      "\u001b[34m\u001b[1mwandb\u001b[0m:      iteration 589\n",
      "\u001b[34m\u001b[1mwandb\u001b[0m: \n",
      "\u001b[34m\u001b[1mwandb\u001b[0m: 🚀 View run \u001b[33mfold4\u001b[0m at: \u001b[34m\u001b[4mhttps://wandb.ai/nori0724/um-game-playing-strength-of-mcts-variants/runs/cfi7cylx\u001b[0m\n",
      "\u001b[34m\u001b[1mwandb\u001b[0m: ⭐️ View project at: \u001b[34m\u001b[4mhttps://wandb.ai/nori0724/um-game-playing-strength-of-mcts-variants\u001b[0m\n",
      "\u001b[34m\u001b[1mwandb\u001b[0m: Synced 5 W&B file(s), 0 media file(s), 4 artifact file(s) and 1 other file(s)\n",
      "\u001b[34m\u001b[1mwandb\u001b[0m: Find logs at: \u001b[35m\u001b[1m./wandb/run-20250227_104921-cfi7cylx/logs\u001b[0m\n"
     ]
    }
   ],
   "source": [
    "lgb_scores = []\n",
    "lgb_models = []\n",
    "for fold in tqdm(range(config.n_splits)):\n",
    "    wandb.init(\n",
    "        project=config.project,\n",
    "        group=config.experiment_name,\n",
    "        name=f\"fold{fold}\",\n",
    "        config=class_to_dict(config),\n",
    "    )\n",
    "\n",
    "    df_tr = df_train[df_train[\"fold\"] != fold].reset_index(drop=True)\n",
    "    df_val = df_train[df_train[\"fold\"] == fold].reset_index(drop=True)\n",
    "\n",
    "    train_data = lgb.Dataset(df_tr[train_cols], label=df_tr[config.target])\n",
    "    valid_data = lgb.Dataset(\n",
    "        df_val[train_cols], label=df_val[config.target], reference=train_data\n",
    "    )\n",
    "\n",
    "    model = lgb.train(\n",
    "        params,\n",
    "        train_data,\n",
    "        num_boost_round=config.n_estimators,\n",
    "        valid_sets=[train_data, valid_data],\n",
    "        callbacks=[\n",
    "            lgb.early_stopping(stopping_rounds=config.stopping_rounds, verbose=True),\n",
    "            lgb.log_evaluation(config.log_evaluation),\n",
    "            wandb_callback(),\n",
    "        ],\n",
    "    )\n",
    "\n",
    "    # 検証データへの予測\n",
    "    preds = model.predict(df_val[train_cols], num_iteration=model.best_iteration)\n",
    "    score = np.sqrt(mean_squared_error(df_val[config.target], preds))\n",
    "    print(f\"Fold {fold} _rmse: {score:.5f}\")\n",
    "\n",
    "    # wandbに　各foldのスコアを記録\n",
    "    wandb.log({f\"Fold_{fold}_rmse\": score})\n",
    "    log_summary(model, save_model_checkpoint=True)\n",
    "\n",
    "    lgb_scores.append(score)\n",
    "    lgb_models.append(model)\n",
    "\n",
    "    wandb.finish()"
   ]
  },
  {
   "cell_type": "code",
   "execution_count": 19,
   "id": "20847b0c",
   "metadata": {
    "execution": {
     "iopub.execute_input": "2025-02-27T10:50:03.395240Z",
     "iopub.status.busy": "2025-02-27T10:50:03.394884Z",
     "iopub.status.idle": "2025-02-27T10:50:03.400539Z",
     "shell.execute_reply": "2025-02-27T10:50:03.399389Z"
    },
    "papermill": {
     "duration": 0.020384,
     "end_time": "2025-02-27T10:50:03.402133",
     "exception": false,
     "start_time": "2025-02-27T10:50:03.381749",
     "status": "completed"
    },
    "tags": []
   },
   "outputs": [
    {
     "name": "stdout",
     "output_type": "stream",
     "text": [
      "LGBM Score: 0.43837\n"
     ]
    }
   ],
   "source": [
    "# 全foldの平均スコアを計算\n",
    "lgbm_score = np.mean(lgb_scores)\n",
    "print(f\"LGBM Score: {lgbm_score:.5f}\")"
   ]
  },
  {
   "cell_type": "code",
   "execution_count": 20,
   "id": "58ce6626",
   "metadata": {
    "execution": {
     "iopub.execute_input": "2025-02-27T10:50:03.427863Z",
     "iopub.status.busy": "2025-02-27T10:50:03.427393Z",
     "iopub.status.idle": "2025-02-27T10:50:05.113315Z",
     "shell.execute_reply": "2025-02-27T10:50:05.112149Z"
    },
    "papermill": {
     "duration": 1.703056,
     "end_time": "2025-02-27T10:50:05.117361",
     "exception": false,
     "start_time": "2025-02-27T10:50:03.414305",
     "status": "completed"
    },
    "tags": []
   },
   "outputs": [
    {
     "name": "stdout",
     "output_type": "stream",
     "text": [
      "      feature_importance                 column  fold\n",
      "0                     40             Stochastic     1\n",
      "1                     71             Asymmetric     1\n",
      "2                      0       AsymmetricForces     1\n",
      "3                      0   AsymmetricPiecesType     1\n",
      "4                     84  PlayersWithDirections     1\n",
      "...                  ...                    ...   ...\n",
      "3065                 139          agent1_param4     5\n",
      "3066                 950          agent2_param1     5\n",
      "3067                 804          agent2_param2     5\n",
      "3068                1187          agent2_param3     5\n",
      "3069                 107          agent2_param4     5\n",
      "\n",
      "[3070 rows x 3 columns]\n"
     ]
    },
    {
     "data": {
      "text/plain": [
       "(<Figure size 800x1250 with 1 Axes>,\n",
       " <Axes: title={'center': 'Importance'}, xlabel='feature_importance', ylabel='column'>)"
      ]
     },
     "execution_count": 20,
     "metadata": {},
     "output_type": "execute_result"
    },
    {
     "data": {
      "image/png": "[encoded data removed]",
      "text/plain": [
       "<Figure size 800x1250 with 1 Axes>"
      ]
     },
     "metadata": {},
     "output_type": "display_data"
    }
   ],
   "source": [
    "# 参考: https://www.guruguru.science/competitions/24/discussions/5bc8532f-9836-4da9-bfc4-7adc7c1444dd/\n",
    "def visualize_importance(models, feat_train_df):\n",
    "    \"\"\"lightGBM の model 配列の feature importance を plot する\n",
    "    CVごとのブレを boxen plot として表現します.\n",
    "\n",
    "    args:\n",
    "        models:\n",
    "            List of lightGBM models\n",
    "        feat_train_df:\n",
    "            学習時に使った DataFrame\n",
    "    \"\"\"\n",
    "    feature_importance_df = pd.DataFrame()\n",
    "    for i, model in enumerate(models):\n",
    "        _df = pd.DataFrame()\n",
    "        _df[\"feature_importance\"] = model.feature_importance()\n",
    "        _df[\"column\"] = feat_train_df.columns\n",
    "        _df[\"fold\"] = i + 1\n",
    "        feature_importance_df = pd.concat(\n",
    "            [feature_importance_df, _df], axis=0, ignore_index=True\n",
    "        )\n",
    "\n",
    "    order = (\n",
    "        feature_importance_df.groupby(\"column\")\n",
    "        .sum()[[\"feature_importance\"]]\n",
    "        .sort_values(\"feature_importance\", ascending=False)\n",
    "        .index[:50]\n",
    "    )\n",
    "    print(feature_importance_df)\n",
    "\n",
    "    fig, ax = plt.subplots(figsize=(8, max(6, len(order) * 0.25)))\n",
    "    sns.boxenplot(\n",
    "        data=feature_importance_df,\n",
    "        x=\"feature_importance\",\n",
    "        y=\"column\",\n",
    "        order=order,\n",
    "        ax=ax,\n",
    "        palette=\"viridis\",\n",
    "        orient=\"h\",\n",
    "    )\n",
    "    ax.tick_params(axis=\"x\", rotation=90)\n",
    "    ax.set_title(\"Importance\")\n",
    "    ax.grid()\n",
    "    fig.tight_layout()\n",
    "    return fig, ax\n",
    "\n",
    "\n",
    "# 特徴量重要度のプロット\n",
    "visualize_importance(lgb_models, df_train[train_cols])"
   ]
  },
  {
   "cell_type": "code",
   "execution_count": 21,
   "id": "660065d6",
   "metadata": {
    "execution": {
     "iopub.execute_input": "2025-02-27T10:50:05.153917Z",
     "iopub.status.busy": "2025-02-27T10:50:05.153416Z",
     "iopub.status.idle": "2025-02-27T10:50:05.206446Z",
     "shell.execute_reply": "2025-02-27T10:50:05.205572Z"
    },
    "papermill": {
     "duration": 0.073272,
     "end_time": "2025-02-27T10:50:05.208639",
     "exception": false,
     "start_time": "2025-02-27T10:50:05.135367",
     "status": "completed"
    },
    "tags": []
   },
   "outputs": [],
   "source": [
    "preds = np.mean(\n",
    "    [\n",
    "        model.predict(df_test[train_cols], num_iteration=model.best_iteration)\n",
    "        for model in lgb_models\n",
    "    ],\n",
    "    0,\n",
    ")"
   ]
  },
  {
   "cell_type": "code",
   "execution_count": 22,
   "id": "aece88d8",
   "metadata": {
    "execution": {
     "iopub.execute_input": "2025-02-27T10:50:05.246253Z",
     "iopub.status.busy": "2025-02-27T10:50:05.245882Z",
     "iopub.status.idle": "2025-02-27T10:50:05.268419Z",
     "shell.execute_reply": "2025-02-27T10:50:05.267347Z"
    },
    "papermill": {
     "duration": 0.041668,
     "end_time": "2025-02-27T10:50:05.270120",
     "exception": false,
     "start_time": "2025-02-27T10:50:05.228452",
     "status": "completed"
    },
    "tags": []
   },
   "outputs": [
    {
     "data": {
      "text/html": [
       "<div>\n",
       "<style scoped>\n",
       "    .dataframe tbody tr th:only-of-type {\n",
       "        vertical-align: middle;\n",
       "    }\n",
       "\n",
       "    .dataframe tbody tr th {\n",
       "        vertical-align: top;\n",
       "    }\n",
       "\n",
       "    .dataframe thead th {\n",
       "        text-align: right;\n",
       "    }\n",
       "</style>\n",
       "<table border=\"1\" class=\"dataframe\">\n",
       "  <thead>\n",
       "    <tr style=\"text-align: right;\">\n",
       "      <th></th>\n",
       "      <th>Id</th>\n",
       "      <th>utility_agent1</th>\n",
       "    </tr>\n",
       "  </thead>\n",
       "  <tbody>\n",
       "    <tr>\n",
       "      <th>0</th>\n",
       "      <td>233234</td>\n",
       "      <td>0.119464</td>\n",
       "    </tr>\n",
       "    <tr>\n",
       "      <th>1</th>\n",
       "      <td>233235</td>\n",
       "      <td>-0.148440</td>\n",
       "    </tr>\n",
       "    <tr>\n",
       "      <th>2</th>\n",
       "      <td>233236</td>\n",
       "      <td>0.051456</td>\n",
       "    </tr>\n",
       "  </tbody>\n",
       "</table>\n",
       "</div>"
      ],
      "text/plain": [
       "       Id  utility_agent1\n",
       "0  233234        0.119464\n",
       "1  233235       -0.148440\n",
       "2  233236        0.051456"
      ]
     },
     "execution_count": 22,
     "metadata": {},
     "output_type": "execute_result"
    }
   ],
   "source": [
    "df_sub = pd.read_csv(config.submission_path)\n",
    "df_sub[config.target] = preds.reshape(-1, 1) \n",
    "df_sub"
   ]
  }
 ],
 "metadata": {
  "kaggle": {
   "accelerator": "none",
   "dataSources": [
    {
     "databundleVersionId": 9515283,
     "sourceId": 70089,
     "sourceType": "competition"
    }
   ],
   "dockerImageVersionId": 30839,
   "isGpuEnabled": false,
   "isInternetEnabled": true,
   "language": "python",
   "sourceType": "notebook"
  },
  "kernelspec": {
   "display_name": "Python 3",
   "language": "python",
   "name": "python3"
  },
  "language_info": {
   "codemirror_mode": {
    "name": "ipython",
    "version": 3
   },
   "file_extension": ".py",
   "mimetype": "text/x-python",
   "name": "python",
   "nbconvert_exporter": "python",
   "pygments_lexer": "ipython3",
   "version": "3.10.12"
  },
  "papermill": {
   "default_parameters": {},
   "duration": 276.977926,
   "end_time": "2025-02-27T10:50:06.712176",
   "environment_variables": {},
   "exception": null,
   "input_path": "__notebook__.ipynb",
   "output_path": "__notebook__.ipynb",
   "parameters": {},
   "start_time": "2025-02-27T10:45:29.734250",
   "version": "2.6.0"
  },
  "widgets": {
   "application/vnd.jupyter.widget-state+json": {
    "state": {
     "025e86ceb9b846e0b353123eb4d062d6": {
      "model_module": "@jupyter-widgets/controls",
      "model_module_version": "2.0.0",
      "model_name": "HTMLStyleModel",
      "state": {
       "_model_module": "@jupyter-widgets/controls",
       "_model_module_version": "2.0.0",
       "_model_name": "HTMLStyleModel",
       "_view_count": null,
       "_view_module": "@jupyter-widgets/base",
       "_view_module_version": "2.0.0",
       "_view_name": "StyleView",
       "background": null,
       "description_width": "",
       "font_size": null,
       "text_color": null
      }
     },
     "103bf9e73aef4e53928d60cdcba64272": {
      "model_module": "@jupyter-widgets/base",
      "model_module_version": "2.0.0",
      "model_name": "LayoutModel",
      "state": {
       "_model_module": "@jupyter-widgets/base",
       "_model_module_version": "2.0.0",
       "_model_name": "LayoutModel",
       "_view_count": null,
       "_view_module": "@jupyter-widgets/base",
       "_view_module_version": "2.0.0",
       "_view_name": "LayoutView",
       "align_content": null,
       "align_items": null,
       "align_self": null,
       "border_bottom": null,
       "border_left": null,
       "border_right": null,
       "border_top": null,
       "bottom": null,
       "display": null,
       "flex": null,
       "flex_flow": null,
       "grid_area": null,
       "grid_auto_columns": null,
       "grid_auto_flow": null,
       "grid_auto_rows": null,
       "grid_column": null,
       "grid_gap": null,
       "grid_row": null,
       "grid_template_areas": null,
       "grid_template_columns": null,
       "grid_template_rows": null,
       "height": null,
       "justify_content": null,
       "justify_items": null,
       "left": null,
       "margin": null,
       "max_height": null,
       "max_width": null,
       "min_height": null,
       "min_width": null,
       "object_fit": null,
       "object_position": null,
       "order": null,
       "overflow": null,
       "padding": null,
       "right": null,
       "top": null,
       "visibility": null,
       "width": null
      }
     },
     "2c6172a0cbd54c11978619fc74b3c9dd": {
      "model_module": "@jupyter-widgets/controls",
      "model_module_version": "2.0.0",
      "model_name": "ProgressStyleModel",
      "state": {
       "_model_module": "@jupyter-widgets/controls",
       "_model_module_version": "2.0.0",
       "_model_name": "ProgressStyleModel",
       "_view_count": null,
       "_view_module": "@jupyter-widgets/base",
       "_view_module_version": "2.0.0",
       "_view_name": "StyleView",
       "bar_color": null,
       "description_width": ""
      }
     },
     "4fd6548473bf42c596bc70d35d8de736": {
      "model_module": "@jupyter-widgets/base",
      "model_module_version": "2.0.0",
      "model_name": "LayoutModel",
      "state": {
       "_model_module": "@jupyter-widgets/base",
       "_model_module_version": "2.0.0",
       "_model_name": "LayoutModel",
       "_view_count": null,
       "_view_module": "@jupyter-widgets/base",
       "_view_module_version": "2.0.0",
       "_view_name": "LayoutView",
       "align_content": null,
       "align_items": null,
       "align_self": null,
       "border_bottom": null,
       "border_left": null,
       "border_right": null,
       "border_top": null,
       "bottom": null,
       "display": null,
       "flex": null,
       "flex_flow": null,
       "grid_area": null,
       "grid_auto_columns": null,
       "grid_auto_flow": null,
       "grid_auto_rows": null,
       "grid_column": null,
       "grid_gap": null,
       "grid_row": null,
       "grid_template_areas": null,
       "grid_template_columns": null,
       "grid_template_rows": null,
       "height": null,
       "justify_content": null,
       "justify_items": null,
       "left": null,
       "margin": null,
       "max_height": null,
       "max_width": null,
       "min_height": null,
       "min_width": null,
       "object_fit": null,
       "object_position": null,
       "order": null,
       "overflow": null,
       "padding": null,
       "right": null,
       "top": null,
       "visibility": null,
       "width": null
      }
     },
     "55e9fe52151847cca38a0011b6938d35": {
      "model_module": "@jupyter-widgets/base",
      "model_module_version": "2.0.0",
      "model_name": "LayoutModel",
      "state": {
       "_model_module": "@jupyter-widgets/base",
       "_model_module_version": "2.0.0",
       "_model_name": "LayoutModel",
       "_view_count": null,
       "_view_module": "@jupyter-widgets/base",
       "_view_module_version": "2.0.0",
       "_view_name": "LayoutView",
       "align_content": null,
       "align_items": null,
       "align_self": null,
       "border_bottom": null,
       "border_left": null,
       "border_right": null,
       "border_top": null,
       "bottom": null,
       "display": null,
       "flex": null,
       "flex_flow": null,
       "grid_area": null,
       "grid_auto_columns": null,
       "grid_auto_flow": null,
       "grid_auto_rows": null,
       "grid_column": null,
       "grid_gap": null,
       "grid_row": null,
       "grid_template_areas": null,
       "grid_template_columns": null,
       "grid_template_rows": null,
       "height": null,
       "justify_content": null,
       "justify_items": null,
       "left": null,
       "margin": null,
       "max_height": null,
       "max_width": null,
       "min_height": null,
       "min_width": null,
       "object_fit": null,
       "object_position": null,
       "order": null,
       "overflow": null,
       "padding": null,
       "right": null,
       "top": null,
       "visibility": null,
       "width": null
      }
     },
     "58bf26849c5d4ea584dfee5df38356d3": {
      "model_module": "@jupyter-widgets/controls",
      "model_module_version": "2.0.0",
      "model_name": "HTMLModel",
      "state": {
       "_dom_classes": [],
       "_model_module": "@jupyter-widgets/controls",
       "_model_module_version": "2.0.0",
       "_model_name": "HTMLModel",
       "_view_count": null,
       "_view_module": "@jupyter-widgets/controls",
       "_view_module_version": "2.0.0",
       "_view_name": "HTMLView",
       "description": "",
       "description_allow_html": false,
       "layout": "IPY_MODEL_af71b13d3b294220959451dcf78c684d",
       "placeholder": "​",
       "style": "IPY_MODEL_7725385f617445cbaf8c70e4d4d04b1a",
       "tabbable": null,
       "tooltip": null,
       "value": " 5/5 [03:35&lt;00:00, 43.72s/it]"
      }
     },
     "7725385f617445cbaf8c70e4d4d04b1a": {
      "model_module": "@jupyter-widgets/controls",
      "model_module_version": "2.0.0",
      "model_name": "HTMLStyleModel",
      "state": {
       "_model_module": "@jupyter-widgets/controls",
       "_model_module_version": "2.0.0",
       "_model_name": "HTMLStyleModel",
       "_view_count": null,
       "_view_module": "@jupyter-widgets/base",
       "_view_module_version": "2.0.0",
       "_view_name": "StyleView",
       "background": null,
       "description_width": "",
       "font_size": null,
       "text_color": null
      }
     },
     "af71b13d3b294220959451dcf78c684d": {
      "model_module": "@jupyter-widgets/base",
      "model_module_version": "2.0.0",
      "model_name": "LayoutModel",
      "state": {
       "_model_module": "@jupyter-widgets/base",
       "_model_module_version": "2.0.0",
       "_model_name": "LayoutModel",
       "_view_count": null,
       "_view_module": "@jupyter-widgets/base",
       "_view_module_version": "2.0.0",
       "_view_name": "LayoutView",
       "align_content": null,
       "align_items": null,
       "align_self": null,
       "border_bottom": null,
       "border_left": null,
       "border_right": null,
       "border_top": null,
       "bottom": null,
       "display": null,
       "flex": null,
       "flex_flow": null,
       "grid_area": null,
       "grid_auto_columns": null,
       "grid_auto_flow": null,
       "grid_auto_rows": null,
       "grid_column": null,
       "grid_gap": null,
       "grid_row": null,
       "grid_template_areas": null,
       "grid_template_columns": null,
       "grid_template_rows": null,
       "height": null,
       "justify_content": null,
       "justify_items": null,
       "left": null,
       "margin": null,
       "max_height": null,
       "max_width": null,
       "min_height": null,
       "min_width": null,
       "object_fit": null,
       "object_position": null,
       "order": null,
       "overflow": null,
       "padding": null,
       "right": null,
       "top": null,
       "visibility": null,
       "width": null
      }
     },
     "b2baa78768ca4bc0ba592947535ed9e6": {
      "model_module": "@jupyter-widgets/controls",
      "model_module_version": "2.0.0",
      "model_name": "HTMLModel",
      "state": {
       "_dom_classes": [],
       "_model_module": "@jupyter-widgets/controls",
       "_model_module_version": "2.0.0",
       "_model_name": "HTMLModel",
       "_view_count": null,
       "_view_module": "@jupyter-widgets/controls",
       "_view_module_version": "2.0.0",
       "_view_name": "HTMLView",
       "description": "",
       "description_allow_html": false,
       "layout": "IPY_MODEL_4fd6548473bf42c596bc70d35d8de736",
       "placeholder": "​",
       "style": "IPY_MODEL_025e86ceb9b846e0b353123eb4d062d6",
       "tabbable": null,
       "tooltip": null,
       "value": "100%"
      }
     },
     "c3114a71db81415eb57985031c8666c4": {
      "model_module": "@jupyter-widgets/controls",
      "model_module_version": "2.0.0",
      "model_name": "HBoxModel",
      "state": {
       "_dom_classes": [],
       "_model_module": "@jupyter-widgets/controls",
       "_model_module_version": "2.0.0",
       "_model_name": "HBoxModel",
       "_view_count": null,
       "_view_module": "@jupyter-widgets/controls",
       "_view_module_version": "2.0.0",
       "_view_name": "HBoxView",
       "box_style": "",
       "children": [
        "IPY_MODEL_b2baa78768ca4bc0ba592947535ed9e6",
        "IPY_MODEL_e0df3956e4ec46d68a8fb715a06b4cbc",
        "IPY_MODEL_58bf26849c5d4ea584dfee5df38356d3"
       ],
       "layout": "IPY_MODEL_55e9fe52151847cca38a0011b6938d35",
       "tabbable": null,
       "tooltip": null
      }
     },
     "e0df3956e4ec46d68a8fb715a06b4cbc": {
      "model_module": "@jupyter-widgets/controls",
      "model_module_version": "2.0.0",
      "model_name": "FloatProgressModel",
      "state": {
       "_dom_classes": [],
       "_model_module": "@jupyter-widgets/controls",
       "_model_module_version": "2.0.0",
       "_model_name": "FloatProgressModel",
       "_view_count": null,
       "_view_module": "@jupyter-widgets/controls",
       "_view_module_version": "2.0.0",
       "_view_name": "ProgressView",
       "bar_style": "success",
       "description": "",
       "description_allow_html": false,
       "layout": "IPY_MODEL_103bf9e73aef4e53928d60cdcba64272",
       "max": 5.0,
       "min": 0.0,
       "orientation": "horizontal",
       "style": "IPY_MODEL_2c6172a0cbd54c11978619fc74b3c9dd",
       "tabbable": null,
       "tooltip": null,
       "value": 5.0
      }
     }
    },
    "version_major": 2,
    "version_minor": 0
   }
  }
 },
 "nbformat": 4,
 "nbformat_minor": 5
}
